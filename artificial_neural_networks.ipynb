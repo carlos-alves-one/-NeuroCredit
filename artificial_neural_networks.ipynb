{
  "nbformat": 4,
  "nbformat_minor": 0,
  "metadata": {
    "colab": {
      "provenance": [],
      "authorship_tag": "ABX9TyNvfL/gdubjBoO0QpysBrSb",
      "include_colab_link": true
    },
    "kernelspec": {
      "name": "python3",
      "display_name": "Python 3"
    },
    "language_info": {
      "name": "python"
    }
  },
  "cells": [
    {
      "cell_type": "markdown",
      "metadata": {
        "id": "view-in-github",
        "colab_type": "text"
      },
      "source": [
        "<a href=\"https://colab.research.google.com/github/carlos-alves-one/-NeuroCredit/blob/master/artificial_neural_networks.ipynb\" target=\"_parent\"><img src=\"https://colab.research.google.com/assets/colab-badge.svg\" alt=\"Open In Colab\"/></a>"
      ]
    },
    {
      "cell_type": "markdown",
      "source": [
        "### Goldsmiths University of London\n",
        "### Author....: Carlos Manuel de Oliveira Alves\n",
        "### Student...: cdeol003\n",
        "### Created...: 27/03/2023\n",
        "### FYP..........: NeuroCredit"
      ],
      "metadata": {
        "id": "UmvtkxzdfznD"
      }
    },
    {
      "cell_type": "code",
      "source": [
        "# Importing the library numpy for mathematical operations\n",
        "import numpy as np"
      ],
      "metadata": {
        "id": "-laS5TuMgB1W"
      },
      "execution_count": null,
      "outputs": []
    }
  ]
}