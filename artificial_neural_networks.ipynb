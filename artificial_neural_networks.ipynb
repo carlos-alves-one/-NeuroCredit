{
  "nbformat": 4,
  "nbformat_minor": 0,
  "metadata": {
    "colab": {
      "provenance": [],
      "toc_visible": true,
      "include_colab_link": true
    },
    "kernelspec": {
      "name": "python3",
      "display_name": "Python 3"
    },
    "language_info": {
      "name": "python"
    }
  },
  "cells": [
    {
      "cell_type": "markdown",
      "metadata": {
        "id": "view-in-github",
        "colab_type": "text"
      },
      "source": [
        "<a href=\"https://colab.research.google.com/github/carlos-alves-one/-NeuroCredit/blob/master/artificial_neural_networks.ipynb\" target=\"_parent\"><img src=\"https://colab.research.google.com/assets/colab-badge.svg\" alt=\"Open In Colab\"/></a>"
      ]
    },
    {
      "cell_type": "markdown",
      "source": [
        "### Goldsmiths University of London\n",
        "### Author.....: Carlos Manuel de Oliveira Alves\n",
        "### Student...: cdeol003\n",
        "### Created...: 27/03/2023\n",
        "### FYP..........: NeuroCredit"
      ],
      "metadata": {
        "id": "UmvtkxzdfznD"
      }
    },
    {
      "cell_type": "markdown",
      "source": [
        "## I. Import Libraries and Packages"
      ],
      "metadata": {
        "id": "K41p3Ux-UpUe"
      }
    },
    {
      "cell_type": "code",
      "source": [
        "# Importing the library numpy for mathematical operations\n",
        "import numpy as np\n",
        "\n",
        "# Importing the pandas library to read the data\n",
        "import pandas as pd\n",
        "\n",
        "# Importing the StandardScaler module to scale the data\n",
        "from sklearn.preprocessing import StandardScaler\n",
        "\n",
        "# Importing module to split the data into training and test sets\n",
        "from sklearn.model_selection import train_test_split\n",
        "\n",
        "# Importing the metrics module to evaluate the model\n",
        "from sklearn.metrics import classification_report, confusion_matrix, accuracy_score\n",
        "\n",
        "# Importing the matplotlib library for plotting\n",
        "import matplotlib.pyplot as plt"
      ],
      "metadata": {
        "id": "-laS5TuMgB1W"
      },
      "execution_count": 137,
      "outputs": []
    },
    {
      "cell_type": "markdown",
      "source": [
        "## II. Activation Function (Sigmoid)"
      ],
      "metadata": {
        "id": "dwpubDVKUtSD"
      }
    },
    {
      "cell_type": "code",
      "source": [
        "# Defining the sigmoid function\n",
        "def sigmoid(x):\n",
        "\n",
        "  # Applying the sigmoid function on x and returning the value\n",
        "  return 1 / (1 + np.exp(-x))"
      ],
      "metadata": {
        "id": "OgdQkvzChtW4"
      },
      "execution_count": 138,
      "outputs": []
    },
    {
      "cell_type": "markdown",
      "source": [
        "## III. Derivative of the Activation Function"
      ],
      "metadata": {
        "id": "_nkWIE3kVq8l"
      }
    },
    {
      "cell_type": "code",
      "source": [
        "# Defining the sigmoid derivative function\n",
        "def sigmoid_derivative(x):\n",
        "\n",
        "  # Applying the sigmoid derivative function on x and returning the value\n",
        "  return x * (1 - x)"
      ],
      "metadata": {
        "id": "PQ9MootXi3kG"
      },
      "execution_count": 139,
      "outputs": []
    },
    {
      "cell_type": "markdown",
      "source": [
        "## IV. Mean Squared Error Loss Function"
      ],
      "metadata": {
        "id": "tSuK-nGHWXW2"
      }
    },
    {
      "cell_type": "code",
      "source": [
        "# Defining the mean squared error loss function\n",
        "def mse_loss(y_true, y_pred):\n",
        "\n",
        "  # Calculating the mean squared error loss and returning the value\n",
        "  return np.mean((y_true - y_pred)**2)"
      ],
      "metadata": {
        "id": "FU75_kalj3uh"
      },
      "execution_count": 140,
      "outputs": []
    },
    {
      "cell_type": "markdown",
      "source": [
        "## V. Artificial Neural Network Architecture"
      ],
      "metadata": {
        "id": "ZBGog8wbkUsX"
      }
    },
    {
      "cell_type": "code",
      "source": [
        "# Defining the number of input nodes\n",
        "input_nodes = 7\n",
        "\n",
        "# Defining the number of hidden nodes\n",
        "hidden_nodes = 10\n",
        "\n",
        "# Defining the number of output nodes\n",
        "output_nodes = 1"
      ],
      "metadata": {
        "id": "1GQDlVNmkZHG"
      },
      "execution_count": 141,
      "outputs": []
    },
    {
      "cell_type": "markdown",
      "source": [
        "## VI. Weights and Biases Initialization"
      ],
      "metadata": {
        "id": "nwRlol7ElLSM"
      }
    },
    {
      "cell_type": "code",
      "source": [
        "# Setting the random seed\n",
        "np.random.seed(0)\n",
        "\n",
        "# Initializing the weights of the input layer \n",
        "weights_input_hidden = np.random.rand(input_nodes, hidden_nodes)\n",
        "\n",
        "# Initializing the weights of the hidden layer\n",
        "weights_hidden_output = np.random.rand(hidden_nodes, output_nodes)\n",
        "\n",
        "# Initializing the biases of the hidden layer\n",
        "bias_hidden = np.random.rand(hidden_nodes)\n",
        "\n",
        "# Initializing the biases of the output layer\n",
        "bias_output = np.random.randn(1, output_nodes)"
      ],
      "metadata": {
        "id": "XVW9B3EZlRk9"
      },
      "execution_count": 142,
      "outputs": []
    },
    {
      "cell_type": "markdown",
      "source": [
        "## VII. Learning Rate"
      ],
      "metadata": {
        "id": "FlXYa72_nGyp"
      }
    },
    {
      "cell_type": "code",
      "source": [
        "# Defining the learning rate\n",
        "lr = 0.1"
      ],
      "metadata": {
        "id": "ddvYbFTqnM5j"
      },
      "execution_count": 143,
      "outputs": []
    },
    {
      "cell_type": "markdown",
      "source": [
        "## VIII. Train the Artificial Neural Network"
      ],
      "metadata": {
        "id": "zC_drPueniWg"
      }
    },
    {
      "cell_type": "code",
      "source": [
        "# Defining the train function\n",
        "def train(X_train, y_train, epochs):\n",
        "    # Defining the global variables\n",
        "    global weights_input_hidden, weights_hidden_output, bias_hidden, bias_output\n",
        "    \n",
        "    # Initialize the lowest and highest MSE values and their corresponding epoch numbers\n",
        "    lowest_mse = float('inf')\n",
        "    highest_mse = float('-inf')\n",
        "    lowest_mse_epoch = 0\n",
        "    highest_mse_epoch = 0\n",
        "\n",
        "    # Iterating over the number of epochs\n",
        "    for epoch in range(epochs):\n",
        "\n",
        "        #============== Forward pass ==============#\n",
        "\n",
        "        # Calculating the input to the hidden layer\n",
        "        hidden_layer_input = np.dot(X_train, weights_input_hidden) + bias_hidden\n",
        "\n",
        "        # Calculating the output of the hidden layer\n",
        "        hidden_layer_output = sigmoid(hidden_layer_input)\n",
        "\n",
        "        # Calculating the input to the output layer\n",
        "        output_layer_input = np.dot(hidden_layer_output, weights_hidden_output) + bias_output\n",
        "\n",
        "        # Calculating the output of the output layer\n",
        "        output_layer_output = sigmoid(output_layer_input)\n",
        "\n",
        "        #============== Calculate the error (mean squared error) ==============#\n",
        "\n",
        "        # Calculating the error in the output layer\n",
        "        output_error = y_train - output_layer_output\n",
        "\n",
        "        # Calculating the mean squared error\n",
        "        mse = mse_loss(y_train, output_layer_output)\n",
        "\n",
        "        # Update the lowest and highest MSE values and their corresponding epoch numbers\n",
        "        if mse < lowest_mse:\n",
        "            lowest_mse = mse\n",
        "            lowest_mse_epoch = epoch + 1\n",
        "\n",
        "        if mse > highest_mse:\n",
        "            highest_mse = mse\n",
        "            highest_mse_epoch = epoch + 1\n",
        "\n",
        "        #==================== Backpropagation ====================#\n",
        "\n",
        "        # Calculating the gradient of the output layer\n",
        "        output_delta = output_error * sigmoid_derivative(output_layer_output)\n",
        "\n",
        "        # Calculating the error in the hidden layer\n",
        "        hidden_error = np.dot(output_delta, weights_hidden_output.T)\n",
        "\n",
        "        # Calculating the gradient of the hidden layer\n",
        "        hidden_delta = hidden_error * sigmoid_derivative(hidden_layer_output)\n",
        "\n",
        "        #=============== Update weights and biases ===============#\n",
        "\n",
        "        # Updating the weights of the hidden layer\n",
        "        weights_hidden_output += np.dot(hidden_layer_output.T, output_delta) * lr\n",
        "\n",
        "        # Updating the weights of the input layer\n",
        "        weights_input_hidden += np.dot(X_train.T, hidden_delta) * lr\n",
        "\n",
        "        # Updating the biases of the output layer\n",
        "        bias_output += np.sum(output_delta, axis=0) * lr\n",
        "\n",
        "        # Updating the biases of the hidden layer\n",
        "        bias_hidden += np.sum(hidden_delta, axis=0) * lr\n",
        "\n",
        "    # Print the lowest and highest MSE values and their corresponding epoch numbers\n",
        "    print(f\">> Lowest MSE...:  {lowest_mse * 100:.2f}% at Epoch {lowest_mse_epoch}\")\n",
        "    print(f\">> Highest MSE..: {highest_mse * 100:.2f}% at Epoch {highest_mse_epoch}\")\n"
      ],
      "metadata": {
        "id": "xCyNeuT_nlBv"
      },
      "execution_count": 144,
      "outputs": []
    },
    {
      "cell_type": "markdown",
      "source": [
        "## IX. Predict the Output"
      ],
      "metadata": {
        "id": "GtGKW7qwvIwi"
      }
    },
    {
      "cell_type": "code",
      "source": [
        "# Defining the predict function\n",
        "def predict(X_test):\n",
        "\n",
        "  # Calculating the input to the hidden layer\n",
        "  hidden_layer_input = np.dot(X_test, weights_input_hidden) + bias_hidden\n",
        "\n",
        "  # Calculating the output of the hidden layer\n",
        "  hidden_layer_output = sigmoid(hidden_layer_input)\n",
        "\n",
        "  # Calculating the input to the output layer\n",
        "  output_layer_input = np.dot(hidden_layer_output, weights_hidden_output) + bias_output\n",
        "\n",
        "  # Calculating the output of the output layer\n",
        "  output_layer_output = sigmoid(output_layer_input)\n",
        "\n",
        "  # Returning the output of the output layer\n",
        "  return np.round(output_layer_output)\n",
        "  "
      ],
      "metadata": {
        "id": "kc3M06HEvLKh"
      },
      "execution_count": 145,
      "outputs": []
    },
    {
      "cell_type": "markdown",
      "source": [
        "## X. Loading the Dataset and Pre-Processing"
      ],
      "metadata": {
        "id": "t9nHPedBxxBq"
      }
    },
    {
      "cell_type": "markdown",
      "source": [
        "### a. Prepare the Dataset"
      ],
      "metadata": {
        "id": "3F2pFwV71ovh"
      }
    },
    {
      "cell_type": "code",
      "source": [
        "# Reading the data with credit loans data\n",
        "data = pd.read_csv('data.csv')\n",
        "\n",
        "# Get the list of columns with int64 data type\n",
        "int_columns = data.select_dtypes(include=['int64']).columns\n",
        "\n",
        "# Convert the int64 columns to float64 columns\n",
        "data[int_columns] = data[int_columns].astype('float64')\n",
        "\n",
        "# Create a new dataframe with the columns that are highly correlated with the income\n",
        "data_new = data[['income',\n",
        "                'assets_value',\n",
        "                'debt_to_income_ratio',\n",
        "                'length_of_credit_history',\n",
        "                'number_of_credit_accounts',\n",
        "                'number_of_credit_accounts_opened_last_12_months',\n",
        "                'saving_account_balance',\n",
        "                'approval_status']]\n",
        "\n",
        "# Print the first 5 rows of the new dataframe\n",
        "data_new.head().T"
      ],
      "metadata": {
        "colab": {
          "base_uri": "https://localhost:8080/",
          "height": 300
        },
        "id": "TzjD3-sSx5K1",
        "outputId": "3f8521b0-0cbc-49a3-e1e5-6a02f1595b2c"
      },
      "execution_count": 146,
      "outputs": [
        {
          "output_type": "execute_result",
          "data": {
            "text/plain": [
              "                                                        0         1         2  \\\n",
              "income                                            46319.0   15480.0   21614.0   \n",
              "assets_value                                      14680.0   46713.0   13026.0   \n",
              "debt_to_income_ratio                                 41.0      82.0      68.0   \n",
              "length_of_credit_history                             24.0       0.0      99.0   \n",
              "number_of_credit_accounts                             3.0       3.0       4.0   \n",
              "number_of_credit_accounts_opened_last_12_months       4.0       2.0       2.0   \n",
              "saving_account_balance                            10207.0   16666.0   10413.0   \n",
              "approval_status                                  Rejected  Rejected  Rejected   \n",
              "\n",
              "                                                        3         4  \n",
              "income                                            25874.0   20389.0  \n",
              "assets_value                                      27908.0   44309.0  \n",
              "debt_to_income_ratio                                 34.0      75.0  \n",
              "length_of_credit_history                             55.0      30.0  \n",
              "number_of_credit_accounts                             4.0       0.0  \n",
              "number_of_credit_accounts_opened_last_12_months       2.0       5.0  \n",
              "saving_account_balance                            16645.0   16366.0  \n",
              "approval_status                                  Rejected  Rejected  "
            ],
            "text/html": [
              "\n",
              "  <div id=\"df-07e4d7ac-9983-492f-b155-f174cca4f091\">\n",
              "    <div class=\"colab-df-container\">\n",
              "      <div>\n",
              "<style scoped>\n",
              "    .dataframe tbody tr th:only-of-type {\n",
              "        vertical-align: middle;\n",
              "    }\n",
              "\n",
              "    .dataframe tbody tr th {\n",
              "        vertical-align: top;\n",
              "    }\n",
              "\n",
              "    .dataframe thead th {\n",
              "        text-align: right;\n",
              "    }\n",
              "</style>\n",
              "<table border=\"1\" class=\"dataframe\">\n",
              "  <thead>\n",
              "    <tr style=\"text-align: right;\">\n",
              "      <th></th>\n",
              "      <th>0</th>\n",
              "      <th>1</th>\n",
              "      <th>2</th>\n",
              "      <th>3</th>\n",
              "      <th>4</th>\n",
              "    </tr>\n",
              "  </thead>\n",
              "  <tbody>\n",
              "    <tr>\n",
              "      <th>income</th>\n",
              "      <td>46319.0</td>\n",
              "      <td>15480.0</td>\n",
              "      <td>21614.0</td>\n",
              "      <td>25874.0</td>\n",
              "      <td>20389.0</td>\n",
              "    </tr>\n",
              "    <tr>\n",
              "      <th>assets_value</th>\n",
              "      <td>14680.0</td>\n",
              "      <td>46713.0</td>\n",
              "      <td>13026.0</td>\n",
              "      <td>27908.0</td>\n",
              "      <td>44309.0</td>\n",
              "    </tr>\n",
              "    <tr>\n",
              "      <th>debt_to_income_ratio</th>\n",
              "      <td>41.0</td>\n",
              "      <td>82.0</td>\n",
              "      <td>68.0</td>\n",
              "      <td>34.0</td>\n",
              "      <td>75.0</td>\n",
              "    </tr>\n",
              "    <tr>\n",
              "      <th>length_of_credit_history</th>\n",
              "      <td>24.0</td>\n",
              "      <td>0.0</td>\n",
              "      <td>99.0</td>\n",
              "      <td>55.0</td>\n",
              "      <td>30.0</td>\n",
              "    </tr>\n",
              "    <tr>\n",
              "      <th>number_of_credit_accounts</th>\n",
              "      <td>3.0</td>\n",
              "      <td>3.0</td>\n",
              "      <td>4.0</td>\n",
              "      <td>4.0</td>\n",
              "      <td>0.0</td>\n",
              "    </tr>\n",
              "    <tr>\n",
              "      <th>number_of_credit_accounts_opened_last_12_months</th>\n",
              "      <td>4.0</td>\n",
              "      <td>2.0</td>\n",
              "      <td>2.0</td>\n",
              "      <td>2.0</td>\n",
              "      <td>5.0</td>\n",
              "    </tr>\n",
              "    <tr>\n",
              "      <th>saving_account_balance</th>\n",
              "      <td>10207.0</td>\n",
              "      <td>16666.0</td>\n",
              "      <td>10413.0</td>\n",
              "      <td>16645.0</td>\n",
              "      <td>16366.0</td>\n",
              "    </tr>\n",
              "    <tr>\n",
              "      <th>approval_status</th>\n",
              "      <td>Rejected</td>\n",
              "      <td>Rejected</td>\n",
              "      <td>Rejected</td>\n",
              "      <td>Rejected</td>\n",
              "      <td>Rejected</td>\n",
              "    </tr>\n",
              "  </tbody>\n",
              "</table>\n",
              "</div>\n",
              "      <button class=\"colab-df-convert\" onclick=\"convertToInteractive('df-07e4d7ac-9983-492f-b155-f174cca4f091')\"\n",
              "              title=\"Convert this dataframe to an interactive table.\"\n",
              "              style=\"display:none;\">\n",
              "        \n",
              "  <svg xmlns=\"http://www.w3.org/2000/svg\" height=\"24px\"viewBox=\"0 0 24 24\"\n",
              "       width=\"24px\">\n",
              "    <path d=\"M0 0h24v24H0V0z\" fill=\"none\"/>\n",
              "    <path d=\"M18.56 5.44l.94 2.06.94-2.06 2.06-.94-2.06-.94-.94-2.06-.94 2.06-2.06.94zm-11 1L8.5 8.5l.94-2.06 2.06-.94-2.06-.94L8.5 2.5l-.94 2.06-2.06.94zm10 10l.94 2.06.94-2.06 2.06-.94-2.06-.94-.94-2.06-.94 2.06-2.06.94z\"/><path d=\"M17.41 7.96l-1.37-1.37c-.4-.4-.92-.59-1.43-.59-.52 0-1.04.2-1.43.59L10.3 9.45l-7.72 7.72c-.78.78-.78 2.05 0 2.83L4 21.41c.39.39.9.59 1.41.59.51 0 1.02-.2 1.41-.59l7.78-7.78 2.81-2.81c.8-.78.8-2.07 0-2.86zM5.41 20L4 18.59l7.72-7.72 1.47 1.35L5.41 20z\"/>\n",
              "  </svg>\n",
              "      </button>\n",
              "      \n",
              "  <style>\n",
              "    .colab-df-container {\n",
              "      display:flex;\n",
              "      flex-wrap:wrap;\n",
              "      gap: 12px;\n",
              "    }\n",
              "\n",
              "    .colab-df-convert {\n",
              "      background-color: #E8F0FE;\n",
              "      border: none;\n",
              "      border-radius: 50%;\n",
              "      cursor: pointer;\n",
              "      display: none;\n",
              "      fill: #1967D2;\n",
              "      height: 32px;\n",
              "      padding: 0 0 0 0;\n",
              "      width: 32px;\n",
              "    }\n",
              "\n",
              "    .colab-df-convert:hover {\n",
              "      background-color: #E2EBFA;\n",
              "      box-shadow: 0px 1px 2px rgba(60, 64, 67, 0.3), 0px 1px 3px 1px rgba(60, 64, 67, 0.15);\n",
              "      fill: #174EA6;\n",
              "    }\n",
              "\n",
              "    [theme=dark] .colab-df-convert {\n",
              "      background-color: #3B4455;\n",
              "      fill: #D2E3FC;\n",
              "    }\n",
              "\n",
              "    [theme=dark] .colab-df-convert:hover {\n",
              "      background-color: #434B5C;\n",
              "      box-shadow: 0px 1px 3px 1px rgba(0, 0, 0, 0.15);\n",
              "      filter: drop-shadow(0px 1px 2px rgba(0, 0, 0, 0.3));\n",
              "      fill: #FFFFFF;\n",
              "    }\n",
              "  </style>\n",
              "\n",
              "      <script>\n",
              "        const buttonEl =\n",
              "          document.querySelector('#df-07e4d7ac-9983-492f-b155-f174cca4f091 button.colab-df-convert');\n",
              "        buttonEl.style.display =\n",
              "          google.colab.kernel.accessAllowed ? 'block' : 'none';\n",
              "\n",
              "        async function convertToInteractive(key) {\n",
              "          const element = document.querySelector('#df-07e4d7ac-9983-492f-b155-f174cca4f091');\n",
              "          const dataTable =\n",
              "            await google.colab.kernel.invokeFunction('convertToInteractive',\n",
              "                                                     [key], {});\n",
              "          if (!dataTable) return;\n",
              "\n",
              "          const docLinkHtml = 'Like what you see? Visit the ' +\n",
              "            '<a target=\"_blank\" href=https://colab.research.google.com/notebooks/data_table.ipynb>data table notebook</a>'\n",
              "            + ' to learn more about interactive tables.';\n",
              "          element.innerHTML = '';\n",
              "          dataTable['output_type'] = 'display_data';\n",
              "          await google.colab.output.renderOutput(dataTable, element);\n",
              "          const docLink = document.createElement('div');\n",
              "          docLink.innerHTML = docLinkHtml;\n",
              "          element.appendChild(docLink);\n",
              "        }\n",
              "      </script>\n",
              "    </div>\n",
              "  </div>\n",
              "  "
            ]
          },
          "metadata": {},
          "execution_count": 146
        }
      ]
    },
    {
      "cell_type": "markdown",
      "source": [
        "### b. Select Features and Target"
      ],
      "metadata": {
        "id": "4KebchRz1xG-"
      }
    },
    {
      "cell_type": "code",
      "source": [
        "# Map the approval_status column to numerical values (0 for \"Rejected\" and 1 for \"Approved\")\n",
        "data_new['approval_status'] = data_new['approval_status'].map({\"Rejected\": 0, \"Approved\": 1})\n",
        "\n",
        "# Store the features in the X variable and the target in the y variable\n",
        "X = data_new.drop('approval_status', axis=1)\n",
        "y = data_new['approval_status']\n"
      ],
      "metadata": {
        "id": "_rMMYeME1DnT",
        "colab": {
          "base_uri": "https://localhost:8080/"
        },
        "outputId": "b8ac79b9-0ac0-4d5b-c365-da1cebece5ee"
      },
      "execution_count": 147,
      "outputs": [
        {
          "output_type": "stream",
          "name": "stderr",
          "text": [
            "<ipython-input-147-d849f0cc14ae>:2: SettingWithCopyWarning: \n",
            "A value is trying to be set on a copy of a slice from a DataFrame.\n",
            "Try using .loc[row_indexer,col_indexer] = value instead\n",
            "\n",
            "See the caveats in the documentation: https://pandas.pydata.org/pandas-docs/stable/user_guide/indexing.html#returning-a-view-versus-a-copy\n",
            "  data_new['approval_status'] = data_new['approval_status'].map({\"Rejected\": 0, \"Approved\": 1})\n"
          ]
        }
      ]
    },
    {
      "cell_type": "markdown",
      "source": [
        "### c. Standardize the Features"
      ],
      "metadata": {
        "id": "oi2tS4Xj2K6F"
      }
    },
    {
      "cell_type": "code",
      "source": [
        "# Create an instance of the StandardScaler\n",
        "scaler = StandardScaler()\n",
        "\n",
        "# Fit the scaler to the features and transform the features\n",
        "X_scaled = scaler.fit_transform(X)"
      ],
      "metadata": {
        "id": "HNjycVd52Pbt"
      },
      "execution_count": 148,
      "outputs": []
    },
    {
      "cell_type": "markdown",
      "source": [
        "### d. Split the Dataset into Train and Test Sets"
      ],
      "metadata": {
        "id": "JwYKaVP43QGT"
      }
    },
    {
      "cell_type": "code",
      "source": [
        "# Create the X_train, X_test, y_train, y_test variables by splitting the data into training and test sets\n",
        "X_train, X_test, y_train, y_test = train_test_split(X_scaled, y, test_size=0.2, random_state=42)\n",
        "\n",
        "# Reshape y_train and y_test arrays to be 1-dimensional\n",
        "y_train = y_train.values.reshape(-1, 1)\n",
        "y_test = y_test.values.reshape(-1, 1)"
      ],
      "metadata": {
        "id": "EeUf5OnT3Wos"
      },
      "execution_count": 149,
      "outputs": []
    },
    {
      "cell_type": "markdown",
      "source": [
        "## XI. Train the Artifical Neural Network "
      ],
      "metadata": {
        "id": "qOV6CXcB3_4v"
      }
    },
    {
      "cell_type": "code",
      "source": [
        "# Defining the number of epochs\n",
        "epochs = 1000\n",
        "\n",
        "# Training the neural network\n",
        "train(X_train, y_train, epochs)"
      ],
      "metadata": {
        "colab": {
          "base_uri": "https://localhost:8080/"
        },
        "id": "ddDyUk5Z4JB3",
        "outputId": "072dfa95-6f71-4838-a481-461e110ff723"
      },
      "execution_count": 150,
      "outputs": [
        {
          "output_type": "stream",
          "name": "stdout",
          "text": [
            ">> Lowest MSE...:  6.40% at Epoch 1000\n",
            ">> Highest MSE..: 82.44% at Epoch 1\n"
          ]
        }
      ]
    },
    {
      "cell_type": "markdown",
      "source": [
        "## XII. Make Predictions and Evaluate the Model"
      ],
      "metadata": {
        "id": "jAu510bG46oQ"
      }
    },
    {
      "cell_type": "code",
      "source": [
        "# Making predictions on the test set\n",
        "y_pred = predict(X_test)"
      ],
      "metadata": {
        "id": "qptlHZNm49FF"
      },
      "execution_count": 151,
      "outputs": []
    },
    {
      "cell_type": "markdown",
      "source": [
        "### a. Classification Report"
      ],
      "metadata": {
        "id": "kiExVMgcPqfm"
      }
    },
    {
      "cell_type": "code",
      "source": [
        "# Printing the classification report\n",
        "print(\"Artificial Neural Networks Classification Report:\")\n",
        "print(classification_report(y_test, y_pred))"
      ],
      "metadata": {
        "colab": {
          "base_uri": "https://localhost:8080/"
        },
        "id": "5HP5-RDCNa6u",
        "outputId": "77c6793d-b50f-4745-fad1-e89a7a917e70"
      },
      "execution_count": 159,
      "outputs": [
        {
          "output_type": "stream",
          "name": "stdout",
          "text": [
            "Artificial Neural Networks Classification Report:\n",
            "              precision    recall  f1-score   support\n",
            "\n",
            "           0       0.89      0.97      0.92       176\n",
            "           1       0.25      0.08      0.12        24\n",
            "\n",
            "    accuracy                           0.86       200\n",
            "   macro avg       0.57      0.52      0.52       200\n",
            "weighted avg       0.81      0.86      0.83       200\n",
            "\n"
          ]
        }
      ]
    },
    {
      "cell_type": "markdown",
      "source": [
        "### b. Confusion Matrix"
      ],
      "metadata": {
        "id": "v1_noZXHQAg6"
      }
    },
    {
      "cell_type": "code",
      "source": [
        "# Plot the confusion matrix\n",
        "\n",
        "# Store the result of the confusion matrix in a variable\n",
        "cm = confusion_matrix(y_test, y_pred)\n",
        "\n",
        "# Store the accuracy of the model in a variable\n",
        "accuracy = accuracy_score(y_test, y_pred)\n",
        "\n",
        "# Set the default style for plots to have a white background\n",
        "plt.style.use('default')\n",
        "\n",
        "# Set the plot visual the confusion matrix using varying shades of blue\n",
        "plt.imshow(cm, cmap=plt.cm.Blues)"
      ],
      "metadata": {
        "colab": {
          "base_uri": "https://localhost:8080/",
          "height": 458
        },
        "id": "PbvsryVTF-lO",
        "outputId": "4080fb5e-d231-4cc0-d1b6-9ca4730c6f8c"
      },
      "execution_count": 153,
      "outputs": [
        {
          "output_type": "display_data",
          "data": {
            "text/plain": [
              "<Figure size 640x480 with 2 Axes>"
            ],
            "image/png": "[encoded data removed]"
          },
          "metadata": {}
        }
      ]
    }
  ]
}