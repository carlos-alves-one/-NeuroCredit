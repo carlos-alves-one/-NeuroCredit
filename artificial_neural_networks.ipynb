{
  "nbformat": 4,
  "nbformat_minor": 0,
  "metadata": {
    "colab": {
      "provenance": [],
      "toc_visible": true,
      "authorship_tag": "ABX9TyOUh7sNrb37CNW/km/nk9N+",
      "include_colab_link": true
    },
    "kernelspec": {
      "name": "python3",
      "display_name": "Python 3"
    },
    "language_info": {
      "name": "python"
    }
  },
  "cells": [
    {
      "cell_type": "markdown",
      "metadata": {
        "id": "view-in-github",
        "colab_type": "text"
      },
      "source": [
        "<a href=\"https://colab.research.google.com/github/carlos-alves-one/-NeuroCredit/blob/master/artificial_neural_networks.ipynb\" target=\"_parent\"><img src=\"https://colab.research.google.com/assets/colab-badge.svg\" alt=\"Open In Colab\"/></a>"
      ]
    },
    {
      "cell_type": "markdown",
      "source": [
        "### Goldsmiths University of London\n",
        "### Author.....: Carlos Manuel de Oliveira Alves\n",
        "### Student...: cdeol003\n",
        "### Created...: 27/03/2023\n",
        "### FYP..........: NeuroCredit"
      ],
      "metadata": {
        "id": "UmvtkxzdfznD"
      }
    },
    {
      "cell_type": "markdown",
      "source": [
        "## I. Import Libraries and Packages"
      ],
      "metadata": {
        "id": "K41p3Ux-UpUe"
      }
    },
    {
      "cell_type": "code",
      "source": [
        "# Importing the library numpy for mathematical operations\n",
        "import numpy as np\n",
        "\n",
        "# Importing the pandas library to read the data\n",
        "import pandas as pd"
      ],
      "metadata": {
        "id": "-laS5TuMgB1W"
      },
      "execution_count": 14,
      "outputs": []
    },
    {
      "cell_type": "markdown",
      "source": [
        "## II. Activation function (Sigmoid)"
      ],
      "metadata": {
        "id": "dwpubDVKUtSD"
      }
    },
    {
      "cell_type": "code",
      "source": [
        "# Defining the sigmoid function\n",
        "def sigmoid(x):\n",
        "\n",
        "  # Applying the sigmoid function on x and returning the value\n",
        "  return 1 / (1 + np.exp(-x))"
      ],
      "metadata": {
        "id": "OgdQkvzChtW4"
      },
      "execution_count": 7,
      "outputs": []
    },
    {
      "cell_type": "markdown",
      "source": [
        "## III. Derivative of the activation function"
      ],
      "metadata": {
        "id": "_nkWIE3kVq8l"
      }
    },
    {
      "cell_type": "code",
      "source": [
        "# Defining the sigmoid derivative function\n",
        "def sigmoid_derivative(x):\n",
        "\n",
        "  # Applying the sigmoid derivative function on x and returning the value\n",
        "  return x * (1 - x)"
      ],
      "metadata": {
        "id": "PQ9MootXi3kG"
      },
      "execution_count": 8,
      "outputs": []
    },
    {
      "cell_type": "markdown",
      "source": [
        "## IV. Mean squared error loss function"
      ],
      "metadata": {
        "id": "tSuK-nGHWXW2"
      }
    },
    {
      "cell_type": "code",
      "source": [
        "# Defining the mean squared error loss function\n",
        "def mse_loss(y_true, y_pred):\n",
        "\n",
        "  # Calculating the mean squared error loss and returning the value\n",
        "  return np.mean((y_true - y_pred)**2)"
      ],
      "metadata": {
        "id": "FU75_kalj3uh"
      },
      "execution_count": 9,
      "outputs": []
    },
    {
      "cell_type": "markdown",
      "source": [
        "## V. Performance metrics"
      ],
      "metadata": {
        "id": "ZobGrschW870"
      }
    },
    {
      "cell_type": "markdown",
      "source": [
        "### a. Accuracy function for classification"
      ],
      "metadata": {
        "id": "FlMbltsPZLv8"
      }
    },
    {
      "cell_type": "code",
      "source": [
        "# Defining the accuracy function for classification\n",
        "def accuracy(y_true, y_pred):\n",
        "\n",
        "  # Calculating the accuracy and returning the value\n",
        "  return np.mean(y_true == y_pred)"
      ],
      "metadata": {
        "id": "yPOA7BL6Oirp"
      },
      "execution_count": 10,
      "outputs": []
    },
    {
      "cell_type": "markdown",
      "source": [
        "### b. Precision function for classification"
      ],
      "metadata": {
        "id": "Gh7IHWiFaOlx"
      }
    },
    {
      "cell_type": "code",
      "source": [
        "# Defining the precision function for classification\n",
        "def precision(y_true, y_pred):\n",
        "\n",
        "  # Calculating the true positives and storing the value in tp\n",
        "  tp = np.sum((y_true == 1) & (y_pred == 1))\n",
        "\n",
        "  # Calculating the false positives and storing the value in fp\n",
        "  fp = np.sum((y_true == 0) & (y_pred == 1))\n",
        "    \n",
        "  # Calculating the precision and returning the value\n",
        "  return tp / (tp + fp)"
      ],
      "metadata": {
        "id": "H7u3RcQyaQu_"
      },
      "execution_count": 11,
      "outputs": []
    },
    {
      "cell_type": "markdown",
      "source": [
        "### c. Recall function for classification"
      ],
      "metadata": {
        "id": "Y7-Qd3CMgyFn"
      }
    },
    {
      "cell_type": "code",
      "source": [
        "# Defining the recall function for classification\n",
        "def recall(y_true, y_pred):\n",
        "\n",
        "  # Calculating the true positives and storing the value in tp\n",
        "  tp = np.sum((y_true == 1) & (y_pred == 1))\n",
        "\n",
        "  # Calculating the false negatives and storing the value in fn\n",
        "  fn = np.sum((y_true == 1) & (y_pred == 0))"
      ],
      "metadata": {
        "id": "tdmqp1iigz_n"
      },
      "execution_count": 12,
      "outputs": []
    },
    {
      "cell_type": "markdown",
      "source": [
        "### d. F1 score function for classification"
      ],
      "metadata": {
        "id": "_8LqfyqWiPBg"
      }
    },
    {
      "cell_type": "code",
      "source": [
        "# Defining the f1 score function for classification\n",
        "def f1_score(y_true, y_pred):\n",
        "\n",
        "  # Calculating the precision and storing the value in prec\n",
        "  prec = precision(y_true, y_pred)\n",
        "\n",
        "  # Calculating the recall and storing the value in rec\n",
        "  rec = recall(y_true, y_pred)\n",
        "\n",
        "  # Calculating the f1 score and returning the value\n",
        "  return 2 * (prec * rec) / (prec + rec)"
      ],
      "metadata": {
        "id": "C0IjjXFoiRGR"
      },
      "execution_count": 13,
      "outputs": []
    },
    {
      "cell_type": "markdown",
      "source": [
        "## VI. Neural network architecture"
      ],
      "metadata": {
        "id": "ZBGog8wbkUsX"
      }
    },
    {
      "cell_type": "code",
      "source": [
        "# Defining the number of input nodes\n",
        "input_nodes = 8\n",
        "\n",
        "# Defining the number of hidden nodes\n",
        "hidden_nodes = 4\n",
        "\n",
        "# Defining the number of output nodes\n",
        "output_nodes = 1"
      ],
      "metadata": {
        "id": "1GQDlVNmkZHG"
      },
      "execution_count": 16,
      "outputs": []
    },
    {
      "cell_type": "markdown",
      "source": [
        "## VII. Weights and biases initialization"
      ],
      "metadata": {
        "id": "nwRlol7ElLSM"
      }
    },
    {
      "cell_type": "code",
      "source": [
        "# Setting the random seed\n",
        "np.random.seed(0)\n",
        "\n",
        "# Initializing the weights of the input layer \n",
        "weights_input_hidden = np.random.rand(input_nodes, hidden_nodes)\n",
        "\n",
        "# Initializing the weights of the hidden layer\n",
        "weights_hidden_output = np.random.rand(hidden_nodes, output_nodes)\n",
        "\n",
        "# Initializing the biases of the hidden layer\n",
        "bias_hidden = np.random.rand(hidden_nodes)"
      ],
      "metadata": {
        "id": "XVW9B3EZlRk9"
      },
      "execution_count": 17,
      "outputs": []
    },
    {
      "cell_type": "markdown",
      "source": [
        "## VIII. Learning rate"
      ],
      "metadata": {
        "id": "FlXYa72_nGyp"
      }
    },
    {
      "cell_type": "code",
      "source": [
        "# Defining the learning rate\n",
        "lr = 0.1"
      ],
      "metadata": {
        "id": "ddvYbFTqnM5j"
      },
      "execution_count": 18,
      "outputs": []
    },
    {
      "cell_type": "markdown",
      "source": [
        "## IX. Train the neural network"
      ],
      "metadata": {
        "id": "zC_drPueniWg"
      }
    },
    {
      "cell_type": "code",
      "source": [
        "# Defining the train function\n",
        "def train(X_train, y_train, epochs):\n",
        "\n",
        "  # Defining the global variables\n",
        "  global weights_input_hidden, weights_hidden_output, bias_hidden, bias_output\n",
        "\n",
        "  # Iterating over the number of epochs\n",
        "  for epoch in range(epochs):\n",
        "\n",
        "    #============== Forward pass ==============#\n",
        "\n",
        "    # Calculating the input to the hidden layer\n",
        "    hidden_layer_input = np.dot(X_train, weights_input_hidden) + bias_hidden\n",
        "\n",
        "\n",
        "    # Calculating the output of the hidden layer\n",
        "    hidden_layer_output = sigmoid(hidden_layer_input)\n",
        "\n",
        "    # Calculating the input to the output layer\n",
        "    output_layer_input = np.dot(hidden_layer_output, weights_hidden_output) + bias_output\n",
        "\n",
        "    # Calculating the output of the output layer\n",
        "    output_layer_output = sigmoid(output_layer_input)\n",
        "\n",
        "    #============== Calculate the error (mean squared error) ==============#\n",
        "\n",
        "    # Calculating the error in the output layer\n",
        "    output_error = y_train - output_layer_output\n",
        "\n",
        "    # Calculating the mean squared error\n",
        "    mse = mse_loss(y_train, output_layer_output)\n",
        "\n",
        "    # Printing the mean squared error\n",
        "    print(f\">> Epoch {epoch + 1}, MSE: {mse * 100:.2f} %\")\n",
        "\n",
        "    #==================== Backpropagation ====================#\n",
        "\n",
        "    # Calculating the gradient of the output layer\n",
        "    output_delta = output_error * sigmoid_derivative(output_layer_output)\n",
        "    \n",
        "    # Calculating the error in the hidden layer\n",
        "    hidden_error = np.dot(output_delta, weights_hidden_output.T)\n",
        "\n",
        "    # Calculating the gradient of the hidden layer\n",
        "    hidden_delta = hidden_error * sigmoid_derivative(hidden_layer_output)\n",
        "\n",
        "    #=============== Update weights and biases ===============#\n",
        "\n",
        "    # Updating the weights of the hidden layer\n",
        "    weights_hidden_output += np.dot(hidden_layer_output.T, output_delta) * lr\n",
        "\n",
        "    # Updating the weights of the input layer\n",
        "    weights_input_hidden += np.dot(X_train.T, hidden_delta) * lr\n",
        "\n",
        "    # Updating the biases of the output layer\n",
        "    bias_output += np.sum(output_delta, axis=0) * lr\n",
        "\n",
        "    # Updating the biases of the hidden layer\n",
        "    bias_hidden += np.sum(hidden_delta, axis=0) * lr\n"
      ],
      "metadata": {
        "id": "xCyNeuT_nlBv"
      },
      "execution_count": 20,
      "outputs": []
    },
    {
      "cell_type": "markdown",
      "source": [
        "## X. Predict the output"
      ],
      "metadata": {
        "id": "GtGKW7qwvIwi"
      }
    },
    {
      "cell_type": "code",
      "source": [
        "# Defining the predict function\n",
        "def predict(X_test):\n",
        "\n",
        "  # Calculating the input to the hidden layer\n",
        "  hidden_layer_input = np.dot(X_test, weights_input_hidden) + bias_hidden\n",
        "\n",
        "  # Calculating the output of the hidden layer\n",
        "  hidden_layer_output = sigmoid(hidden_layer_input)\n",
        "\n",
        "  # Calculating the input to the output layer\n",
        "  output_layer_input = np.dot(hidden_layer_output, weights_hidden_output) + bias_output\n",
        "\n",
        "  # Calculating the output of the output layer\n",
        "  output_layer_output = sigmoid(output_layer_input)\n",
        "\n",
        "  # Returning the output of the output layer\n",
        "  return np.round(output_layer_output)\n",
        "  "
      ],
      "metadata": {
        "id": "kc3M06HEvLKh"
      },
      "execution_count": 21,
      "outputs": []
    },
    {
      "cell_type": "markdown",
      "source": [
        "## XI. Loading the dataset and pre-processing"
      ],
      "metadata": {
        "id": "t9nHPedBxxBq"
      }
    },
    {
      "cell_type": "markdown",
      "source": [
        "### a. Prepare the dataset"
      ],
      "metadata": {
        "id": "3F2pFwV71ovh"
      }
    },
    {
      "cell_type": "code",
      "source": [
        "# Reading the data with credit loans data\n",
        "data = pd.read_csv('data.csv')\n",
        "\n",
        "# Get the list of columns with int64 data type\n",
        "int_columns = data.select_dtypes(include=['int64']).columns\n",
        "\n",
        "# Convert the int64 columns to float64 columns\n",
        "data[int_columns] = data[int_columns].astype('float64')\n",
        "\n",
        "# Create a new dataframe with the columns that are highly correlated with the income\n",
        "data_new = data[['income',\n",
        "                'assets_value',\n",
        "                'debt_to_income_ratio',\n",
        "                'length_of_credit_history',\n",
        "                'number_of_credit_accounts',\n",
        "                'number_of_credit_accounts_opened_last_12_months',\n",
        "                'saving_account_balance',\n",
        "                'approval_status']]\n",
        "\n",
        "# Print the first 5 rows of the new dataframe\n",
        "data_new.head().T"
      ],
      "metadata": {
        "colab": {
          "base_uri": "https://localhost:8080/",
          "height": 300
        },
        "id": "TzjD3-sSx5K1",
        "outputId": "ce6b1868-87a1-497b-afa9-ceb1f031a49e"
      },
      "execution_count": 22,
      "outputs": [
        {
          "output_type": "execute_result",
          "data": {
            "text/plain": [
              "                                                        0         1         2  \\\n",
              "income                                            46319.0   15480.0   21614.0   \n",
              "assets_value                                      14680.0   46713.0   13026.0   \n",
              "debt_to_income_ratio                                 41.0      82.0      68.0   \n",
              "length_of_credit_history                             24.0       0.0      99.0   \n",
              "number_of_credit_accounts                             3.0       3.0       4.0   \n",
              "number_of_credit_accounts_opened_last_12_months       4.0       2.0       2.0   \n",
              "saving_account_balance                            10207.0   16666.0   10413.0   \n",
              "approval_status                                  Rejected  Rejected  Rejected   \n",
              "\n",
              "                                                        3         4  \n",
              "income                                            25874.0   20389.0  \n",
              "assets_value                                      27908.0   44309.0  \n",
              "debt_to_income_ratio                                 34.0      75.0  \n",
              "length_of_credit_history                             55.0      30.0  \n",
              "number_of_credit_accounts                             4.0       0.0  \n",
              "number_of_credit_accounts_opened_last_12_months       2.0       5.0  \n",
              "saving_account_balance                            16645.0   16366.0  \n",
              "approval_status                                  Rejected  Rejected  "
            ],
            "text/html": [
              "\n",
              "  <div id=\"df-d35bbcf9-a1f2-44bf-99ab-de6beefae1ce\">\n",
              "    <div class=\"colab-df-container\">\n",
              "      <div>\n",
              "<style scoped>\n",
              "    .dataframe tbody tr th:only-of-type {\n",
              "        vertical-align: middle;\n",
              "    }\n",
              "\n",
              "    .dataframe tbody tr th {\n",
              "        vertical-align: top;\n",
              "    }\n",
              "\n",
              "    .dataframe thead th {\n",
              "        text-align: right;\n",
              "    }\n",
              "</style>\n",
              "<table border=\"1\" class=\"dataframe\">\n",
              "  <thead>\n",
              "    <tr style=\"text-align: right;\">\n",
              "      <th></th>\n",
              "      <th>0</th>\n",
              "      <th>1</th>\n",
              "      <th>2</th>\n",
              "      <th>3</th>\n",
              "      <th>4</th>\n",
              "    </tr>\n",
              "  </thead>\n",
              "  <tbody>\n",
              "    <tr>\n",
              "      <th>income</th>\n",
              "      <td>46319.0</td>\n",
              "      <td>15480.0</td>\n",
              "      <td>21614.0</td>\n",
              "      <td>25874.0</td>\n",
              "      <td>20389.0</td>\n",
              "    </tr>\n",
              "    <tr>\n",
              "      <th>assets_value</th>\n",
              "      <td>14680.0</td>\n",
              "      <td>46713.0</td>\n",
              "      <td>13026.0</td>\n",
              "      <td>27908.0</td>\n",
              "      <td>44309.0</td>\n",
              "    </tr>\n",
              "    <tr>\n",
              "      <th>debt_to_income_ratio</th>\n",
              "      <td>41.0</td>\n",
              "      <td>82.0</td>\n",
              "      <td>68.0</td>\n",
              "      <td>34.0</td>\n",
              "      <td>75.0</td>\n",
              "    </tr>\n",
              "    <tr>\n",
              "      <th>length_of_credit_history</th>\n",
              "      <td>24.0</td>\n",
              "      <td>0.0</td>\n",
              "      <td>99.0</td>\n",
              "      <td>55.0</td>\n",
              "      <td>30.0</td>\n",
              "    </tr>\n",
              "    <tr>\n",
              "      <th>number_of_credit_accounts</th>\n",
              "      <td>3.0</td>\n",
              "      <td>3.0</td>\n",
              "      <td>4.0</td>\n",
              "      <td>4.0</td>\n",
              "      <td>0.0</td>\n",
              "    </tr>\n",
              "    <tr>\n",
              "      <th>number_of_credit_accounts_opened_last_12_months</th>\n",
              "      <td>4.0</td>\n",
              "      <td>2.0</td>\n",
              "      <td>2.0</td>\n",
              "      <td>2.0</td>\n",
              "      <td>5.0</td>\n",
              "    </tr>\n",
              "    <tr>\n",
              "      <th>saving_account_balance</th>\n",
              "      <td>10207.0</td>\n",
              "      <td>16666.0</td>\n",
              "      <td>10413.0</td>\n",
              "      <td>16645.0</td>\n",
              "      <td>16366.0</td>\n",
              "    </tr>\n",
              "    <tr>\n",
              "      <th>approval_status</th>\n",
              "      <td>Rejected</td>\n",
              "      <td>Rejected</td>\n",
              "      <td>Rejected</td>\n",
              "      <td>Rejected</td>\n",
              "      <td>Rejected</td>\n",
              "    </tr>\n",
              "  </tbody>\n",
              "</table>\n",
              "</div>\n",
              "      <button class=\"colab-df-convert\" onclick=\"convertToInteractive('df-d35bbcf9-a1f2-44bf-99ab-de6beefae1ce')\"\n",
              "              title=\"Convert this dataframe to an interactive table.\"\n",
              "              style=\"display:none;\">\n",
              "        \n",
              "  <svg xmlns=\"http://www.w3.org/2000/svg\" height=\"24px\"viewBox=\"0 0 24 24\"\n",
              "       width=\"24px\">\n",
              "    <path d=\"M0 0h24v24H0V0z\" fill=\"none\"/>\n",
              "    <path d=\"M18.56 5.44l.94 2.06.94-2.06 2.06-.94-2.06-.94-.94-2.06-.94 2.06-2.06.94zm-11 1L8.5 8.5l.94-2.06 2.06-.94-2.06-.94L8.5 2.5l-.94 2.06-2.06.94zm10 10l.94 2.06.94-2.06 2.06-.94-2.06-.94-.94-2.06-.94 2.06-2.06.94z\"/><path d=\"M17.41 7.96l-1.37-1.37c-.4-.4-.92-.59-1.43-.59-.52 0-1.04.2-1.43.59L10.3 9.45l-7.72 7.72c-.78.78-.78 2.05 0 2.83L4 21.41c.39.39.9.59 1.41.59.51 0 1.02-.2 1.41-.59l7.78-7.78 2.81-2.81c.8-.78.8-2.07 0-2.86zM5.41 20L4 18.59l7.72-7.72 1.47 1.35L5.41 20z\"/>\n",
              "  </svg>\n",
              "      </button>\n",
              "      \n",
              "  <style>\n",
              "    .colab-df-container {\n",
              "      display:flex;\n",
              "      flex-wrap:wrap;\n",
              "      gap: 12px;\n",
              "    }\n",
              "\n",
              "    .colab-df-convert {\n",
              "      background-color: #E8F0FE;\n",
              "      border: none;\n",
              "      border-radius: 50%;\n",
              "      cursor: pointer;\n",
              "      display: none;\n",
              "      fill: #1967D2;\n",
              "      height: 32px;\n",
              "      padding: 0 0 0 0;\n",
              "      width: 32px;\n",
              "    }\n",
              "\n",
              "    .colab-df-convert:hover {\n",
              "      background-color: #E2EBFA;\n",
              "      box-shadow: 0px 1px 2px rgba(60, 64, 67, 0.3), 0px 1px 3px 1px rgba(60, 64, 67, 0.15);\n",
              "      fill: #174EA6;\n",
              "    }\n",
              "\n",
              "    [theme=dark] .colab-df-convert {\n",
              "      background-color: #3B4455;\n",
              "      fill: #D2E3FC;\n",
              "    }\n",
              "\n",
              "    [theme=dark] .colab-df-convert:hover {\n",
              "      background-color: #434B5C;\n",
              "      box-shadow: 0px 1px 3px 1px rgba(0, 0, 0, 0.15);\n",
              "      filter: drop-shadow(0px 1px 2px rgba(0, 0, 0, 0.3));\n",
              "      fill: #FFFFFF;\n",
              "    }\n",
              "  </style>\n",
              "\n",
              "      <script>\n",
              "        const buttonEl =\n",
              "          document.querySelector('#df-d35bbcf9-a1f2-44bf-99ab-de6beefae1ce button.colab-df-convert');\n",
              "        buttonEl.style.display =\n",
              "          google.colab.kernel.accessAllowed ? 'block' : 'none';\n",
              "\n",
              "        async function convertToInteractive(key) {\n",
              "          const element = document.querySelector('#df-d35bbcf9-a1f2-44bf-99ab-de6beefae1ce');\n",
              "          const dataTable =\n",
              "            await google.colab.kernel.invokeFunction('convertToInteractive',\n",
              "                                                     [key], {});\n",
              "          if (!dataTable) return;\n",
              "\n",
              "          const docLinkHtml = 'Like what you see? Visit the ' +\n",
              "            '<a target=\"_blank\" href=https://colab.research.google.com/notebooks/data_table.ipynb>data table notebook</a>'\n",
              "            + ' to learn more about interactive tables.';\n",
              "          element.innerHTML = '';\n",
              "          dataTable['output_type'] = 'display_data';\n",
              "          await google.colab.output.renderOutput(dataTable, element);\n",
              "          const docLink = document.createElement('div');\n",
              "          docLink.innerHTML = docLinkHtml;\n",
              "          element.appendChild(docLink);\n",
              "        }\n",
              "      </script>\n",
              "    </div>\n",
              "  </div>\n",
              "  "
            ]
          },
          "metadata": {},
          "execution_count": 22
        }
      ]
    },
    {
      "cell_type": "markdown",
      "source": [
        "### b. Select features and target"
      ],
      "metadata": {
        "id": "4KebchRz1xG-"
      }
    },
    {
      "cell_type": "code",
      "source": [
        "# Store the features in the X variable and the target in the y variable\n",
        "X = data_new.drop('approval_status', axis=1)\n",
        "y = data_new['approval_status']"
      ],
      "metadata": {
        "id": "_rMMYeME1DnT"
      },
      "execution_count": null,
      "outputs": []
    },
    {
      "cell_type": "markdown",
      "source": [
        "### c. Standardize the features"
      ],
      "metadata": {
        "id": "oi2tS4Xj2K6F"
      }
    },
    {
      "cell_type": "code",
      "source": [],
      "metadata": {
        "id": "HNjycVd52Pbt"
      },
      "execution_count": null,
      "outputs": []
    }
  ]
}