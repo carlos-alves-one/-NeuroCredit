{
  "nbformat": 4,
  "nbformat_minor": 0,
  "metadata": {
    "colab": {
      "provenance": [],
      "authorship_tag": "ABX9TyPvCVGcyEJsL0azCVQyF9bn",
      "include_colab_link": true
    },
    "kernelspec": {
      "name": "python3",
      "display_name": "Python 3"
    },
    "language_info": {
      "name": "python"
    }
  },
  "cells": [
    {
      "cell_type": "markdown",
      "metadata": {
        "id": "view-in-github",
        "colab_type": "text"
      },
      "source": [
        "<a href=\"https://colab.research.google.com/github/carlos-alves-one/-NeuroCredit/blob/master/artificial_neural_networks.ipynb\" target=\"_parent\"><img src=\"https://colab.research.google.com/assets/colab-badge.svg\" alt=\"Open In Colab\"/></a>"
      ]
    },
    {
      "cell_type": "markdown",
      "source": [
        "### Goldsmiths University of London\n",
        "### Author.....: Carlos Manuel de Oliveira Alves\n",
        "### Student...: cdeol003\n",
        "### Created...: 27/03/2023\n",
        "### FYP..........: NeuroCredit"
      ],
      "metadata": {
        "id": "UmvtkxzdfznD"
      }
    },
    {
      "cell_type": "markdown",
      "source": [
        "## I. Import Libraries and Packages"
      ],
      "metadata": {
        "id": "K41p3Ux-UpUe"
      }
    },
    {
      "cell_type": "code",
      "source": [
        "# Importing the library numpy for mathematical operations\n",
        "import numpy as np"
      ],
      "metadata": {
        "id": "-laS5TuMgB1W"
      },
      "execution_count": 6,
      "outputs": []
    },
    {
      "cell_type": "markdown",
      "source": [
        "## II. Activation function (Sigmoid)"
      ],
      "metadata": {
        "id": "dwpubDVKUtSD"
      }
    },
    {
      "cell_type": "code",
      "source": [
        "# Defining the sigmoid function\n",
        "def sigmoid(x):\n",
        "\n",
        "  # Applying the sigmoid function on x and returning the value\n",
        "  return 1 / (1 + np.exp(-x))"
      ],
      "metadata": {
        "id": "OgdQkvzChtW4"
      },
      "execution_count": 7,
      "outputs": []
    },
    {
      "cell_type": "markdown",
      "source": [
        "## III. Derivative of the activation function"
      ],
      "metadata": {
        "id": "_nkWIE3kVq8l"
      }
    },
    {
      "cell_type": "code",
      "source": [
        "# Defining the sigmoid derivative function\n",
        "def sigmoid_derivative(x):\n",
        "\n",
        "  # Applying the sigmoid derivative function on x and returning the value\n",
        "  return x * (1 - x)"
      ],
      "metadata": {
        "id": "PQ9MootXi3kG"
      },
      "execution_count": 8,
      "outputs": []
    },
    {
      "cell_type": "markdown",
      "source": [
        "## IV. Mean squared error loss function"
      ],
      "metadata": {
        "id": "tSuK-nGHWXW2"
      }
    },
    {
      "cell_type": "code",
      "source": [
        "# Defining the mean squared error loss function\n",
        "def mse_loss(y_true, y_pred):\n",
        "\n",
        "  # Calculating the mean squared error loss and returning the value\n",
        "  return np.mean((y_true - y_pred)**2)"
      ],
      "metadata": {
        "id": "FU75_kalj3uh"
      },
      "execution_count": 9,
      "outputs": []
    },
    {
      "cell_type": "markdown",
      "source": [
        "## V. Performance metrics"
      ],
      "metadata": {
        "id": "ZobGrschW870"
      }
    },
    {
      "cell_type": "markdown",
      "source": [
        "### a. Accuracy function for classification"
      ],
      "metadata": {
        "id": "FlMbltsPZLv8"
      }
    },
    {
      "cell_type": "code",
      "source": [
        "# Defining the accuracy function for classification\n",
        "def accuracy(y_true, y_pred):\n",
        "\n",
        "  # Calculating the accuracy and returning the value\n",
        "  return np.mean(y_true == y_pred)"
      ],
      "metadata": {
        "id": "yPOA7BL6Oirp"
      },
      "execution_count": 10,
      "outputs": []
    },
    {
      "cell_type": "markdown",
      "source": [
        "### b. Precision function for classification"
      ],
      "metadata": {
        "id": "Gh7IHWiFaOlx"
      }
    },
    {
      "cell_type": "code",
      "source": [
        "# Defining the precision function for classification\n",
        "def precision(y_true, y_pred):\n",
        "\n",
        "  # Calculating the true positives and storing the value in tp\n",
        "  tp = np.sum((y_true == 1) & (y_pred == 1))\n",
        "\n",
        "  # Calculating the false positives and storing the value in fp\n",
        "  fp = np.sum((y_true == 0) & (y_pred == 1))\n",
        "    \n",
        "  # Calculating the precision and returning the value\n",
        "  return tp / (tp + fp)"
      ],
      "metadata": {
        "id": "H7u3RcQyaQu_"
      },
      "execution_count": 11,
      "outputs": []
    },
    {
      "cell_type": "markdown",
      "source": [
        "### c. Recall function for classification"
      ],
      "metadata": {
        "id": "Y7-Qd3CMgyFn"
      }
    },
    {
      "cell_type": "code",
      "source": [
        "# Defining the recall function for classification\n",
        "def recall(y_true, y_pred):\n",
        "\n",
        "  # Calculating the true positives and storing the value in tp\n",
        "  tp = np.sum((y_true == 1) & (y_pred == 1))\n",
        "\n",
        "  # Calculating the false negatives and storing the value in fn\n",
        "  fn = np.sum((y_true == 1) & (y_pred == 0))"
      ],
      "metadata": {
        "id": "tdmqp1iigz_n"
      },
      "execution_count": 12,
      "outputs": []
    },
    {
      "cell_type": "markdown",
      "source": [
        "### d. F1 score function for classification"
      ],
      "metadata": {
        "id": "_8LqfyqWiPBg"
      }
    },
    {
      "cell_type": "code",
      "source": [
        "# Defining the f1 score function for classification\n",
        "def f1_score(y_true, y_pred):\n",
        "\n",
        "  # Calculating the precision and storing the value in prec\n",
        "  prec = precision(y_true, y_pred)\n",
        "\n",
        "  # Calculating the recall and storing the value in rec\n",
        "  rec = recall(y_true, y_pred)\n",
        "\n",
        "  # Calculating the f1 score and returning the value\n",
        "  return 2 * (prec * rec) / (prec + rec)"
      ],
      "metadata": {
        "id": "C0IjjXFoiRGR"
      },
      "execution_count": 13,
      "outputs": []
    }
  ]
}