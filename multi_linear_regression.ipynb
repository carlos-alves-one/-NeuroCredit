{
 "cells": [
  {
   "attachments": {},
   "cell_type": "markdown",
   "metadata": {},
   "source": [
    "### Goldsmiths University of London\n",
    "### Author....: Carlos Manuel de Oliveira Alves\n",
    "### Student...: cdeol003\n",
    "### Created...: 12/02/2023\n",
    "### FYP.......: NeuroCredit"
   ]
  },
  {
   "cell_type": "code",
   "execution_count": 17,
   "metadata": {},
   "outputs": [],
   "source": [
    "# Multiple Linear Regression\n",
    "\n",
    "# Import the libraries to implement the linear regression model\n",
    "import numpy as np\n",
    "import pandas as pd\n",
    "import matplotlib.pyplot as plt"
   ]
  },
  {
   "cell_type": "code",
   "execution_count": 32,
   "metadata": {},
   "outputs": [],
   "source": [
    "# Import the dataset to implement the linear regression model\n",
    "dataset = pd.read_csv('data.csv')\n",
    "\n",
    "# Select all the columns except the last one as the independent variables vector\n",
    "X = dataset.iloc[:, :-1].values\n",
    "\n",
    "# Select the last column as the dependent variable vector\n",
    "y = dataset.iloc[:, -1].values"
   ]
  },
  {
   "cell_type": "code",
   "execution_count": 33,
   "metadata": {},
   "outputs": [
    {
     "name": "stdout",
     "output_type": "stream",
     "text": [
      "[['Poor' 'Self-Employed' 'None' 'Fair' 'Auto' 'Judgement'\n",
      "  'Debt Consolidation' 30971 11969 78 21 0 5 0 135 18627 25 4648 4719]\n",
      " ['Poor' 'Unemployed' 'Investment' 'Excellent' 'Mortgage' 'Collection'\n",
      "  'Home Improvement' 19120 45396 81 92 0 2 1 19857 11996 58 2657 19366]\n",
      " ['Excellent' 'Unemployed' 'House' 'Poor' 'Other' 'Bankruptcy'\n",
      "  'Debt Consolidation' 48687 18880 73 27 0 3 1 17501 18074 30 2487 15500]\n",
      " ['Fair' 'Unemployed' 'Car' 'Good' 'Other' 'Tax Lien' 'Home Improvement'\n",
      "  40997 11527 6 19 3 3 4 9376 5073 60 3100 12380]\n",
      " ['Good' 'Unemployed' 'House' 'Excellent' 'Personal' 'None' 'Business'\n",
      "  35485 27016 33 49 5 2 3 18960 14542 99 1596 7946]]\n"
     ]
    }
   ],
   "source": [
    "# Print first 5 rows with the independent variables vector\n",
    "print(X[:5])"
   ]
  },
  {
   "cell_type": "code",
   "execution_count": 34,
   "metadata": {},
   "outputs": [],
   "source": [
    "# Split the dataset into training and test sets\n",
    "from sklearn.model_selection import train_test_split\n",
    "X_train, X_test, y_train, y_test = train_test_split(X, y, test_size = 0.2, random_state = 0)"
   ]
  },
  {
   "cell_type": "code",
   "execution_count": 35,
   "metadata": {},
   "outputs": [],
   "source": [
    "# Encode the categorical data\n",
    "\n",
    "# Import the library for encoding the categorical data\n",
    "from sklearn.compose import ColumnTransformer\n",
    "\n",
    "# Import the library for one hot encoding the categorical data\n",
    "from sklearn.preprocessing import OneHotEncoder\n",
    "\n",
    "# Create an object of the ColumnTransformer class\n",
    "ct = ColumnTransformer(transformers=[('encoder', OneHotEncoder(), [0,1,2,3,4,5,6])], remainder='passthrough')\n",
    "\n",
    "# Encoding the independent variables vector\n",
    "X = np.array(ct.fit_transform(X))"
   ]
  },
  {
   "cell_type": "code",
   "execution_count": 36,
   "metadata": {},
   "outputs": [
    {
     "name": "stdout",
     "output_type": "stream",
     "text": [
      "[[0.0 0.0 0.0 1.0 0.0 1.0 0.0 0.0 0.0 0.0 0.0 1.0 0.0 0.0 1.0 0.0 0.0 1.0\n",
      "  0.0 0.0 0.0 0.0 0.0 0.0 1.0 0.0 0.0 0.0 0.0 0.0 1.0 0.0 0.0 30971 11969\n",
      "  78 21 0 5 0 135 18627 25 4648 4719]\n",
      " [0.0 0.0 0.0 1.0 0.0 0.0 1.0 0.0 0.0 1.0 0.0 0.0 0.0 1.0 0.0 0.0 0.0 0.0\n",
      "  1.0 0.0 0.0 0.0 0.0 1.0 0.0 0.0 0.0 0.0 0.0 0.0 0.0 1.0 0.0 19120 45396\n",
      "  81 92 0 2 1 19857 11996 58 2657 19366]\n",
      " [1.0 0.0 0.0 0.0 0.0 0.0 1.0 0.0 1.0 0.0 0.0 0.0 0.0 0.0 0.0 0.0 1.0 0.0\n",
      "  0.0 1.0 0.0 0.0 1.0 0.0 0.0 0.0 0.0 0.0 0.0 0.0 1.0 0.0 0.0 48687 18880\n",
      "  73 27 0 3 1 17501 18074 30 2487 15500]\n",
      " [0.0 1.0 0.0 0.0 0.0 0.0 1.0 1.0 0.0 0.0 0.0 0.0 0.0 0.0 0.0 1.0 0.0 0.0\n",
      "  0.0 1.0 0.0 0.0 0.0 0.0 0.0 0.0 0.0 1.0 0.0 0.0 0.0 1.0 0.0 40997 11527\n",
      "  6 19 3 3 4 9376 5073 60 3100 12380]\n",
      " [0.0 0.0 1.0 0.0 0.0 0.0 1.0 0.0 1.0 0.0 0.0 0.0 0.0 1.0 0.0 0.0 0.0 0.0\n",
      "  0.0 0.0 1.0 0.0 0.0 0.0 0.0 1.0 0.0 0.0 1.0 0.0 0.0 0.0 0.0 35485 27016\n",
      "  33 49 5 2 3 18960 14542 99 1596 7946]]\n"
     ]
    }
   ],
   "source": [
    "# Print first 5 rows with the independent variables vector after encoding\n",
    "print(X[:5])"
   ]
  },
  {
   "cell_type": "code",
   "execution_count": 39,
   "metadata": {},
   "outputs": [
    {
     "name": "stdout",
     "output_type": "stream",
     "text": [
      "['Rejected' 'Rejected' 'Rejected' 'Rejected' 'Rejected' 'Rejected'\n",
      " 'Rejected' 'Rejected' 'Rejected' 'Rejected']\n"
     ]
    }
   ],
   "source": [
    "# Print first 5 rows with the dependent variable vector\n",
    "print(y[:5])"
   ]
  },
  {
   "cell_type": "code",
   "execution_count": 40,
   "metadata": {},
   "outputs": [],
   "source": [
    "# Encode the categorical data for the dependent variable vector\n",
    "\n",
    "# Import the library for encoding the categorical data\n",
    "from sklearn.preprocessing import LabelEncoder\n",
    "\n",
    "# Create an object of the LabelEncoder class\n",
    "labelencoder_y = LabelEncoder()\n",
    "\n",
    "# Encode the dependent variable vector\n",
    "y = labelencoder_y.fit_transform(dataset.iloc[:, -1].values)"
   ]
  },
  {
   "cell_type": "code",
   "execution_count": 41,
   "metadata": {},
   "outputs": [
    {
     "name": "stdout",
     "output_type": "stream",
     "text": [
      "[1 1 1 1 1]\n"
     ]
    }
   ],
   "source": [
    "# Print first 5 rows with the dependent variable vector after encoding\n",
    "print(y[:5])"
   ]
  },
  {
   "cell_type": "code",
   "execution_count": 42,
   "metadata": {},
   "outputs": [],
   "source": [
    "# Split the dataset into training and test sets\n",
    "from sklearn.model_selection import train_test_split\n",
    "X_train, X_test, y_train, y_test = train_test_split(X, y, test_size = 0.2, random_state = 0)"
   ]
  },
  {
   "cell_type": "code",
   "execution_count": 43,
   "metadata": {},
   "outputs": [
    {
     "data": {
      "text/html": [
       "<style>#sk-container-id-1 {color: black;background-color: white;}#sk-container-id-1 pre{padding: 0;}#sk-container-id-1 div.sk-toggleable {background-color: white;}#sk-container-id-1 label.sk-toggleable__label {cursor: pointer;display: block;width: 100%;margin-bottom: 0;padding: 0.3em;box-sizing: border-box;text-align: center;}#sk-container-id-1 label.sk-toggleable__label-arrow:before {content: \"▸\";float: left;margin-right: 0.25em;color: #696969;}#sk-container-id-1 label.sk-toggleable__label-arrow:hover:before {color: black;}#sk-container-id-1 div.sk-estimator:hover label.sk-toggleable__label-arrow:before {color: black;}#sk-container-id-1 div.sk-toggleable__content {max-height: 0;max-width: 0;overflow: hidden;text-align: left;background-color: #f0f8ff;}#sk-container-id-1 div.sk-toggleable__content pre {margin: 0.2em;color: black;border-radius: 0.25em;background-color: #f0f8ff;}#sk-container-id-1 input.sk-toggleable__control:checked~div.sk-toggleable__content {max-height: 200px;max-width: 100%;overflow: auto;}#sk-container-id-1 input.sk-toggleable__control:checked~label.sk-toggleable__label-arrow:before {content: \"▾\";}#sk-container-id-1 div.sk-estimator input.sk-toggleable__control:checked~label.sk-toggleable__label {background-color: #d4ebff;}#sk-container-id-1 div.sk-label input.sk-toggleable__control:checked~label.sk-toggleable__label {background-color: #d4ebff;}#sk-container-id-1 input.sk-hidden--visually {border: 0;clip: rect(1px 1px 1px 1px);clip: rect(1px, 1px, 1px, 1px);height: 1px;margin: -1px;overflow: hidden;padding: 0;position: absolute;width: 1px;}#sk-container-id-1 div.sk-estimator {font-family: monospace;background-color: #f0f8ff;border: 1px dotted black;border-radius: 0.25em;box-sizing: border-box;margin-bottom: 0.5em;}#sk-container-id-1 div.sk-estimator:hover {background-color: #d4ebff;}#sk-container-id-1 div.sk-parallel-item::after {content: \"\";width: 100%;border-bottom: 1px solid gray;flex-grow: 1;}#sk-container-id-1 div.sk-label:hover label.sk-toggleable__label {background-color: #d4ebff;}#sk-container-id-1 div.sk-serial::before {content: \"\";position: absolute;border-left: 1px solid gray;box-sizing: border-box;top: 0;bottom: 0;left: 50%;z-index: 0;}#sk-container-id-1 div.sk-serial {display: flex;flex-direction: column;align-items: center;background-color: white;padding-right: 0.2em;padding-left: 0.2em;position: relative;}#sk-container-id-1 div.sk-item {position: relative;z-index: 1;}#sk-container-id-1 div.sk-parallel {display: flex;align-items: stretch;justify-content: center;background-color: white;position: relative;}#sk-container-id-1 div.sk-item::before, #sk-container-id-1 div.sk-parallel-item::before {content: \"\";position: absolute;border-left: 1px solid gray;box-sizing: border-box;top: 0;bottom: 0;left: 50%;z-index: -1;}#sk-container-id-1 div.sk-parallel-item {display: flex;flex-direction: column;z-index: 1;position: relative;background-color: white;}#sk-container-id-1 div.sk-parallel-item:first-child::after {align-self: flex-end;width: 50%;}#sk-container-id-1 div.sk-parallel-item:last-child::after {align-self: flex-start;width: 50%;}#sk-container-id-1 div.sk-parallel-item:only-child::after {width: 0;}#sk-container-id-1 div.sk-dashed-wrapped {border: 1px dashed gray;margin: 0 0.4em 0.5em 0.4em;box-sizing: border-box;padding-bottom: 0.4em;background-color: white;}#sk-container-id-1 div.sk-label label {font-family: monospace;font-weight: bold;display: inline-block;line-height: 1.2em;}#sk-container-id-1 div.sk-label-container {text-align: center;}#sk-container-id-1 div.sk-container {/* jupyter's `normalize.less` sets `[hidden] { display: none; }` but bootstrap.min.css set `[hidden] { display: none !important; }` so we also need the `!important` here to be able to override the default hidden behavior on the sphinx rendered scikit-learn.org. See: https://github.com/scikit-learn/scikit-learn/issues/21755 */display: inline-block !important;position: relative;}#sk-container-id-1 div.sk-text-repr-fallback {display: none;}</style><div id=\"sk-container-id-1\" class=\"sk-top-container\"><div class=\"sk-text-repr-fallback\"><pre>LinearRegression()</pre><b>In a Jupyter environment, please rerun this cell to show the HTML representation or trust the notebook. <br />On GitHub, the HTML representation is unable to render, please try loading this page with nbviewer.org.</b></div><div class=\"sk-container\" hidden><div class=\"sk-item\"><div class=\"sk-estimator sk-toggleable\"><input class=\"sk-toggleable__control sk-hidden--visually\" id=\"sk-estimator-id-1\" type=\"checkbox\" checked><label for=\"sk-estimator-id-1\" class=\"sk-toggleable__label sk-toggleable__label-arrow\">LinearRegression</label><div class=\"sk-toggleable__content\"><pre>LinearRegression()</pre></div></div></div></div></div>"
      ],
      "text/plain": [
       "LinearRegression()"
      ]
     },
     "execution_count": 43,
     "metadata": {},
     "output_type": "execute_result"
    }
   ],
   "source": [
    "# Training the Multiple Linear Regression model on the Training set\n",
    "from sklearn.linear_model import LinearRegression\n",
    "\n",
    "# Create an instance of the LinearRegression class\n",
    "regressor = LinearRegression()\n",
    "\n",
    "# Fit the training set\n",
    "regressor.fit(X_train, y_train)"
   ]
  },
  {
   "cell_type": "code",
   "execution_count": 44,
   "metadata": {},
   "outputs": [
    {
     "name": "stdout",
     "output_type": "stream",
     "text": [
      "[[1.09 1.  ]\n",
      " [0.88 1.  ]\n",
      " [0.94 1.  ]\n",
      " [1.01 1.  ]\n",
      " [0.96 1.  ]\n",
      " [1.04 1.  ]\n",
      " [0.99 1.  ]\n",
      " [1.07 1.  ]\n",
      " [1.07 1.  ]\n",
      " [0.97 1.  ]\n",
      " [0.91 1.  ]\n",
      " [0.77 1.  ]\n",
      " [1.1  1.  ]\n",
      " [0.97 1.  ]\n",
      " [1.04 1.  ]\n",
      " [1.01 1.  ]\n",
      " [0.73 1.  ]\n",
      " [0.61 0.  ]\n",
      " [0.68 0.  ]\n",
      " [0.94 1.  ]\n",
      " [1.02 1.  ]\n",
      " [0.91 1.  ]\n",
      " [0.98 1.  ]\n",
      " [0.92 1.  ]\n",
      " [0.76 1.  ]\n",
      " [1.08 1.  ]\n",
      " [0.64 1.  ]\n",
      " [0.64 0.  ]\n",
      " [1.15 1.  ]\n",
      " [0.91 1.  ]\n",
      " [0.61 0.  ]\n",
      " [1.05 1.  ]\n",
      " [1.13 1.  ]\n",
      " [0.74 0.  ]\n",
      " [0.63 1.  ]\n",
      " [0.98 1.  ]\n",
      " [1.04 1.  ]\n",
      " [0.53 1.  ]\n",
      " [0.6  1.  ]\n",
      " [0.91 1.  ]\n",
      " [1.11 1.  ]\n",
      " [0.89 1.  ]\n",
      " [0.56 0.  ]\n",
      " [1.03 1.  ]\n",
      " [1.12 1.  ]\n",
      " [0.98 1.  ]\n",
      " [1.06 1.  ]\n",
      " [0.97 1.  ]\n",
      " [1.19 1.  ]\n",
      " [0.71 1.  ]\n",
      " [1.06 1.  ]\n",
      " [0.93 1.  ]\n",
      " [0.86 1.  ]\n",
      " [0.86 1.  ]\n",
      " [0.88 1.  ]\n",
      " [1.01 1.  ]\n",
      " [1.13 1.  ]\n",
      " [0.95 1.  ]\n",
      " [0.92 1.  ]\n",
      " [1.   1.  ]\n",
      " [1.16 1.  ]\n",
      " [0.61 0.  ]\n",
      " [1.08 1.  ]\n",
      " [0.99 1.  ]\n",
      " [1.08 1.  ]\n",
      " [1.06 1.  ]\n",
      " [0.61 1.  ]\n",
      " [1.13 1.  ]\n",
      " [0.62 1.  ]\n",
      " [1.19 1.  ]\n",
      " [0.54 0.  ]\n",
      " [0.6  0.  ]\n",
      " [0.95 1.  ]\n",
      " [0.54 0.  ]\n",
      " [0.62 0.  ]\n",
      " [1.15 1.  ]\n",
      " [0.72 1.  ]\n",
      " [0.54 0.  ]\n",
      " [1.03 1.  ]\n",
      " [0.69 0.  ]\n",
      " [0.94 1.  ]\n",
      " [1.01 1.  ]\n",
      " [0.72 1.  ]\n",
      " [0.69 0.  ]\n",
      " [0.98 1.  ]\n",
      " [0.97 1.  ]\n",
      " [0.45 0.  ]\n",
      " [0.99 1.  ]\n",
      " [0.97 1.  ]\n",
      " [0.48 0.  ]\n",
      " [0.61 1.  ]\n",
      " [1.04 1.  ]\n",
      " [0.52 0.  ]\n",
      " [0.64 1.  ]\n",
      " [0.98 1.  ]\n",
      " [0.64 1.  ]\n",
      " [0.73 1.  ]\n",
      " [1.02 1.  ]\n",
      " [0.95 1.  ]\n",
      " [0.67 0.  ]\n",
      " [0.93 1.  ]\n",
      " [0.94 1.  ]\n",
      " [1.02 1.  ]\n",
      " [0.68 1.  ]\n",
      " [0.62 0.  ]\n",
      " [1.05 1.  ]\n",
      " [0.74 1.  ]\n",
      " [0.84 1.  ]\n",
      " [1.01 1.  ]\n",
      " [0.94 1.  ]\n",
      " [0.57 0.  ]\n",
      " [1.02 1.  ]\n",
      " [1.09 1.  ]\n",
      " [0.96 1.  ]\n",
      " [0.99 1.  ]\n",
      " [1.03 1.  ]\n",
      " [1.01 1.  ]\n",
      " [0.88 1.  ]\n",
      " [0.95 1.  ]\n",
      " [1.01 1.  ]\n",
      " [0.92 1.  ]\n",
      " [1.06 1.  ]\n",
      " [1.05 1.  ]\n",
      " [1.1  1.  ]\n",
      " [1.07 1.  ]\n",
      " [0.69 1.  ]\n",
      " [1.16 1.  ]\n",
      " [1.02 1.  ]\n",
      " [1.06 1.  ]\n",
      " [0.98 1.  ]\n",
      " [0.57 1.  ]\n",
      " [0.99 1.  ]\n",
      " [1.05 1.  ]\n",
      " [0.86 1.  ]\n",
      " [0.91 1.  ]\n",
      " [1.03 1.  ]\n",
      " [1.16 1.  ]\n",
      " [1.01 1.  ]\n",
      " [0.96 1.  ]\n",
      " [0.97 1.  ]\n",
      " [1.13 1.  ]\n",
      " [0.97 1.  ]\n",
      " [0.62 0.  ]\n",
      " [0.54 0.  ]\n",
      " [1.07 1.  ]\n",
      " [1.07 1.  ]\n",
      " [0.7  1.  ]\n",
      " [0.99 1.  ]\n",
      " [0.67 1.  ]\n",
      " [1.04 1.  ]\n",
      " [1.1  1.  ]\n",
      " [0.54 0.  ]\n",
      " [1.01 1.  ]\n",
      " [0.99 1.  ]\n",
      " [0.57 1.  ]\n",
      " [1.03 1.  ]\n",
      " [1.11 1.  ]\n",
      " [0.96 1.  ]\n",
      " [0.99 1.  ]\n",
      " [0.85 1.  ]\n",
      " [0.91 1.  ]\n",
      " [1.02 1.  ]\n",
      " [0.93 1.  ]\n",
      " [0.57 1.  ]\n",
      " [1.07 1.  ]\n",
      " [0.46 0.  ]\n",
      " [0.56 1.  ]\n",
      " [0.68 1.  ]\n",
      " [0.72 1.  ]\n",
      " [0.68 1.  ]\n",
      " [0.94 1.  ]\n",
      " [0.7  1.  ]\n",
      " [1.18 1.  ]\n",
      " [0.42 1.  ]\n",
      " [0.72 1.  ]\n",
      " [0.52 0.  ]\n",
      " [1.02 1.  ]\n",
      " [1.05 1.  ]\n",
      " [1.05 1.  ]\n",
      " [0.67 1.  ]\n",
      " [0.96 1.  ]\n",
      " [1.18 1.  ]\n",
      " [1.06 1.  ]\n",
      " [0.97 1.  ]\n",
      " [0.52 0.  ]\n",
      " [0.7  1.  ]\n",
      " [0.95 1.  ]\n",
      " [1.08 1.  ]\n",
      " [0.64 1.  ]\n",
      " [0.53 0.  ]\n",
      " [0.83 1.  ]\n",
      " [1.17 1.  ]\n",
      " [0.99 1.  ]\n",
      " [0.96 1.  ]\n",
      " [0.74 0.  ]\n",
      " [0.58 1.  ]\n",
      " [1.02 1.  ]\n",
      " [0.9  1.  ]\n",
      " [1.09 1.  ]\n",
      " [1.14 1.  ]]\n"
     ]
    }
   ],
   "source": [
    "# Predict the test set results\n",
    "y_pred = regressor.predict(X_test)\n",
    "\n",
    "# Set the precision of the values to 2 decimal places\n",
    "np.set_printoptions(precision=2)\n",
    "\n",
    "# Print the predicted values and the actual values\n",
    "print(np.concatenate((y_pred.reshape(len(y_pred),1), y_test.reshape(len(y_test),1)),1))"
   ]
  },
  {
   "cell_type": "code",
   "execution_count": 45,
   "metadata": {},
   "outputs": [
    {
     "data": {
      "image/png": "[encoded data removed]",
      "text/plain": [
       "<Figure size 640x480 with 1 Axes>"
      ]
     },
     "metadata": {},
     "output_type": "display_data"
    }
   ],
   "source": [
    "# Plot the predicted values and the actual values\n",
    "plt.scatter(y_test, y_pred, color = 'red')\n",
    "plt.title('Predicted vs Actual values')\n",
    "plt.xlabel('Actual values')\n",
    "plt.ylabel('Predicted values')\n",
    "plt.show()\n"
   ]
  }
 ],
 "metadata": {
  "kernelspec": {
   "display_name": "project-env",
   "language": "python",
   "name": "python3"
  },
  "language_info": {
   "codemirror_mode": {
    "name": "ipython",
    "version": 3
   },
   "file_extension": ".py",
   "mimetype": "text/x-python",
   "name": "python",
   "nbconvert_exporter": "python",
   "pygments_lexer": "ipython3",
   "version": "3.10.10"
  },
  "orig_nbformat": 4,
  "vscode": {
   "interpreter": {
    "hash": "07399a9b4a62e4c2eb93a877b8941afe4222eac8f395849197d7e356d4348282"
   }
  }
 },
 "nbformat": 4,
 "nbformat_minor": 2
}
