{
 "cells": [
  {
   "attachments": {},
   "cell_type": "markdown",
   "metadata": {},
   "source": [
    "### Goldsmiths University of London\n",
    "### Author....: Carlos Manuel de Oliveira Alves\n",
    "### Student...: cdeol003\n",
    "### Created...: 26/01/2023\n",
    "### FYP.......: NeuroCredit"
   ]
  }
 ],
 "metadata": {
  "kernelspec": {
   "display_name": "project-env",
   "language": "python",
   "name": "python3"
  },
  "language_info": {
   "name": "python",
   "version": "3.10.9 (tags/v3.10.9:1dd9be6, Dec  6 2022, 20:01:21) [MSC v.1934 64 bit (AMD64)]"
  },
  "orig_nbformat": 4,
  "vscode": {
   "interpreter": {
    "hash": "07399a9b4a62e4c2eb93a877b8941afe4222eac8f395849197d7e356d4348282"
   }
  }
 },
 "nbformat": 4,
 "nbformat_minor": 2
}
