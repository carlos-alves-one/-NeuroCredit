{
 "cells": [
  {
   "attachments": {},
   "cell_type": "markdown",
   "metadata": {},
   "source": [
    "### Goldsmiths University of London\n",
    "### Author....: Carlos Manuel de Oliveira Alves\n",
    "### Student...: cdeol003\n",
    "### Created...: 26/01/2023\n",
    "### FYP.......: NeuroCredit"
   ]
  },
  {
   "cell_type": "code",
   "execution_count": 3,
   "metadata": {},
   "outputs": [],
   "source": [
    "# Import pandas library\n",
    "import pandas as pd"
   ]
  },
  {
   "cell_type": "code",
   "execution_count": 4,
   "metadata": {},
   "outputs": [],
   "source": [
    "# Import random to generate random data\n",
    "import random"
   ]
  },
  {
   "cell_type": "code",
   "execution_count": null,
   "metadata": {},
   "outputs": [],
   "source": [
    "# Declare a list to store the data\n",
    "data = []\n",
    "\n",
    "# Generate 1.000 random records\n",
    "for i in range(1000):\n",
    "\n",
    "    # Credit history and credit score\n",
    "    credit_history_list = [\"Excellent\", \"Good\", \"Fair\", \"Poor\"]\n",
    "    credit_history = random.choice(credit_history_list)\n",
    "    credit_score = random.randint(300, 850)\n",
    "\n",
    "    # Income and employment information\n",
    "    income = random.randint(10000, 100000)\n",
    "    employment_status_list = [\"Employed\", \"Self-Employed\", \"Unemployed\"]\n",
    "    employment_status = random.choice(employment_status_list)\n",
    "\n",
    "    # Collateral information and assets value\n",
    "    collateral_list = [\"House\", \"Car\", \"None\", \"Other\", \"Land\", \"Investment\"]\n",
    "    collateral = random.choice(collateral_list)\n",
    "    assets_value = random.randint(10000, 100000)\n",
    "\n",
    "    # Debt-to-income ratio\n",
    "    debt_to_income_ratio = random.randint(0, 100)\n",
    "\n",
    "    # Payment history\n",
    "    payment_history_list = [\"Excellent\", \"Good\", \"Fair\", \"Poor\"]\n",
    "    payment_history = random.choice(payment_history_list)\n",
    "\n",
    "    # Length of credit history\n",
    "    length_of_credit_history = random.randint(0, 100)\n",
    "\n",
    "    # Number of credit inquiries\n",
    "    number_of_credit_inquiries = random.randint(0, 100)\n",
    "\n",
    "    # Number of credit accounts\n",
    "    number_of_credit_accounts = random.randint(0, 10)\n",
    "\n",
    "    # Number of credit accounts opened in the last 12 months\n",
    "    number_of_credit_accounts_opened_last_12_months = random.randint(0, 10)\n",
    "\n",
    "    # Type of credit accounts\n",
    "    type_of_credit_accounts_list = [\"Mortgage\", \"Auto\", \"Student\", \"Personal\", \"Other\"]\n",
    "    type_of_credit_accounts = random.choice(type_of_credit_accounts_list)\n",
    "\n",
    "    # Current balance of credit accounts\n",
    "    current_balance_of_credit_accounts = random.randint(0, 100000)"
   ]
  }
 ],
 "metadata": {
  "kernelspec": {
   "display_name": "project-env",
   "language": "python",
   "name": "python3"
  },
  "language_info": {
   "codemirror_mode": {
    "name": "ipython",
    "version": 3
   },
   "file_extension": ".py",
   "mimetype": "text/x-python",
   "name": "python",
   "nbconvert_exporter": "python",
   "pygments_lexer": "ipython3",
   "version": "3.10.9"
  },
  "orig_nbformat": 4,
  "vscode": {
   "interpreter": {
    "hash": "07399a9b4a62e4c2eb93a877b8941afe4222eac8f395849197d7e356d4348282"
   }
  }
 },
 "nbformat": 4,
 "nbformat_minor": 2
}
