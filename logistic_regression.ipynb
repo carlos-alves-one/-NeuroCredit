{
 "cells": [
  {
   "attachments": {},
   "cell_type": "markdown",
   "metadata": {},
   "source": [
    "### Goldsmiths University of London\n",
    "### Author....: Carlos Manuel de Oliveira Alves\n",
    "### Student...: cdeol003\n",
    "### Created...: 08/02/2023\n",
    "### FYP.......: NeuroCredit"
   ]
  },
  {
   "cell_type": "code",
   "execution_count": null,
   "metadata": {},
   "outputs": [],
   "source": [
    "# Importing the pandas library to read the data\n",
    "import pandas as pd"
   ]
  },
  {
   "cell_type": "code",
   "execution_count": null,
   "metadata": {},
   "outputs": [],
   "source": [
    "# Reading the data with credit loans data\n",
    "data = pd.read_csv('data.csv')"
   ]
  },
  {
   "cell_type": "code",
   "execution_count": null,
   "metadata": {},
   "outputs": [],
   "source": [
    "# Printing the first 5 rows of the data\n",
    "data.head().T"
   ]
  },
  {
   "cell_type": "code",
   "execution_count": null,
   "metadata": {},
   "outputs": [],
   "source": [
    "# Describing the dataset with the mean, standard deviation, min, max, etc.\n",
    "data.describe().T"
   ]
  },
  {
   "cell_type": "code",
   "execution_count": null,
   "metadata": {},
   "outputs": [],
   "source": [
    "# Import Necessary Libraries with sklearn\n",
    "from sklearn.model_selection import train_test_split\n",
    "from sklearn.linear_model import LogisticRegression\n",
    "from sklearn.metrics import accuracy_score, precision_score, recall_score, f1_score\n",
    "from sklearn.preprocessing import OneHotEncoder\n",
    "from sklearn.preprocessing import LabelEncoder"
   ]
  },
  {
   "cell_type": "code",
   "execution_count": null,
   "metadata": {},
   "outputs": [],
   "source": [
    "# Split the data into train and test sets\n",
    "train, test = train_test_split(data, test_size=0.2, random_state=42)"
   ]
  },
  {
   "cell_type": "code",
   "execution_count": null,
   "metadata": {},
   "outputs": [],
   "source": [
    "# Print the number of rows and columns in the train and test sets\n",
    "print('Train set: ', train.shape)\n",
    "print('Test set: ', test.shape)"
   ]
  },
  {
   "cell_type": "code",
   "execution_count": null,
   "metadata": {},
   "outputs": [],
   "source": [
    "# Create Logistic Regression model\n",
    "logistic_regression = LogisticRegression()\n",
    "\n",
    "# One-hot encode the string values in the train and test datasets\n",
    "encoder = OneHotEncoder(handle_unknown='ignore')\n",
    "X_train = encoder.fit_transform(train.drop(columns=['approval_status']))\n",
    "X_test = encoder.transform(test.drop(columns=['approval_status']))\n",
    "\n",
    "# Create y_train with the target column from the training set\n",
    "y_train = train['approval_status']\n",
    "\n",
    "# Initialize the LabelEncoder\n",
    "encoder = LabelEncoder()\n",
    "\n",
    "# Fit and transform the y_train labels using the LabelEncoder\n",
    "y_train = encoder.fit_transform(y_train)\n",
    "\n",
    "# Train the model on the training set\n",
    "logistic_regression.fit(X_train, y_train)\n",
    "\n",
    "# Make predictions for the test set\n",
    "predictions = logistic_regression.predict(X_test)\n",
    "\n",
    "# Create y_test with the target column from the test set\n",
    "y_test = test['approval_status']\n",
    "\n",
    "# Transform the y_test labels using the LabelEncoder (without re-fitting)\n",
    "y_test = encoder.transform(y_test)\n",
    "\n",
    "# Print the first 5 predictions\n",
    "print(\"First 5 Predictions:\")\n",
    "for i, prediction in enumerate(predictions[:5]):\n",
    "    print(f\"{prediction} - The model predicts that the {i + 1} example belongs to class {prediction}.\")\n",
    "\n",
    "# Print the first 5 probabilities of the predictions\n",
    "probabilities = logistic_regression.predict_proba(X_test)[:5]\n",
    "print(\"\\nFirst 5 Probabilities:\")\n",
    "for i, probability in enumerate(probabilities):\n",
    "    class_0_prob = probability[0]\n",
    "    class_1_prob = probability[1]\n",
    "    class_0_prob_pct = round(class_0_prob * 100, 2)\n",
    "    class_1_prob_pct = round(class_1_prob * 100, 2)\n",
    "    print(f\"[{class_0_prob:.2f}, {class_1_prob:.2f}] - {class_1_prob_pct:.2f}% probability of class 1, {class_0_prob_pct:.2f}% probability of class 0.\")\n",
    "\n",
    "# Evaluate the performance of the model\n",
    "acc = accuracy_score(y_test, predictions)\n",
    "prec = precision_score(y_test, predictions)\n",
    "rec = recall_score(y_test, predictions)\n",
    "f1 = f1_score(y_test, predictions)\n",
    "\n",
    "# Print the performance metrics\n",
    "print('\\nAccuracy...: {:.2f} %'.format(acc*100))\n",
    "print('Precision..: {:.2f} %'.format(prec*100))\n",
    "print('Recall.....: {:.2f} %'.format(rec*100))\n",
    "print('F1 Score...: {:.2f} %'.format(f1*100))"
   ]
  },
  {
   "cell_type": "code",
   "execution_count": null,
   "metadata": {},
   "outputs": [],
   "source": [
    "# Plot the confusion matrix\n",
    "from sklearn.metrics import confusion_matrix\n",
    "import matplotlib.pyplot as plt\n",
    "import numpy as np\n",
    "\n",
    "# Create the confusion matrix\n",
    "cm = confusion_matrix(y_test, predictions)\n",
    "\n",
    "# Plot the confusion matrix\n",
    "plt.figure(figsize=(5, 5))\n",
    "plt.imshow(cm, interpolation='nearest', cmap=plt.cm.Blues)\n",
    "plt.title('Confusion Matrix')\n",
    "plt.colorbar()\n",
    "tick_marks = np.arange(2)\n",
    "plt.xticks(tick_marks, ['Approved', 'Denied'], rotation=45)\n",
    "plt.yticks(tick_marks, ['Approved', 'Denied'])\n",
    "plt.tight_layout()\n",
    "plt.ylabel('True label')\n",
    "plt.xlabel('Predicted label')\n",
    "plt.show()"
   ]
  },
  {
   "cell_type": "code",
   "execution_count": null,
   "metadata": {},
   "outputs": [],
   "source": [
    "# Plot the ROC curve\n",
    "from sklearn.metrics import roc_curve, auc\n",
    "\n",
    "# Compute the false positive rate, true positive rate and thresholds\n",
    "fpr, tpr, thresholds = roc_curve(y_test, predictions)\n",
    "\n",
    "# Compute the area under the curve\n",
    "roc_auc = auc(fpr, tpr)\n",
    "\n",
    "# Plot the ROC curve\n",
    "plt.figure(figsize=(5, 5))\n",
    "plt.plot(fpr, tpr, color='darkorange', lw=2, label='ROC curve (area = %0.2f)' % roc_auc)\n",
    "plt.plot([0, 1], [0, 1], color='navy', lw=2, linestyle='--')\n",
    "plt.xlim([0.0, 1.0])\n",
    "plt.ylim([0.0, 1.05])\n",
    "plt.xlabel('False Positive Rate')\n",
    "plt.ylabel('True Positive Rate')\n",
    "plt.title('Receiver Operating Characteristic')\n",
    "plt.legend(loc=\"lower right\")\n",
    "plt.show()"
   ]
  },
  {
   "cell_type": "code",
   "execution_count": null,
   "metadata": {},
   "outputs": [],
   "source": [
    "# Plot the precision-recall curve\n",
    "from sklearn.metrics import precision_recall_curve\n",
    "\n",
    "# Compute the precision and recall\n",
    "precision, recall, thresholds = precision_recall_curve(y_test, predictions)\n",
    "\n",
    "# Plot the precision-recall curve\n",
    "plt.figure(figsize=(5, 5))\n",
    "plt.plot(recall, precision, color='darkorange', lw=2, label='Precision-Recall curve')\n",
    "plt.xlim([0.0, 1.0])\n",
    "plt.ylim([0.0, 1.05])\n",
    "plt.xlabel('Recall')\n",
    "plt.ylabel('Precision')\n",
    "plt.title('Precision-Recall')\n",
    "plt.legend(loc=\"lower right\")\n",
    "plt.show()"
   ]
  },
  {
   "cell_type": "code",
   "execution_count": null,
   "metadata": {},
   "outputs": [],
   "source": [
    "# Plot the learning curve\n",
    "from sklearn.model_selection import learning_curve\n",
    "\n",
    "# Create the learning curve\n",
    "train_sizes, train_scores, test_scores = learning_curve(logistic_regression, X_train, y_train, cv=5, scoring='accuracy', n_jobs=-1, train_sizes=np.linspace(0.01, 1.0, 50))\n",
    "\n",
    "# Compute the mean and standard deviation of the training and test scores\n",
    "train_mean = np.mean(train_scores, axis=1)\n",
    "\n",
    "# Compute the mean and standard deviation of the training and test scores\n",
    "train_std = np.std(train_scores, axis=1)\n",
    "\n",
    "# Plot the learning curve\n",
    "plt.figure(figsize=(5, 5))\n",
    "plt.plot(train_sizes, train_mean, color='blue', marker='o', markersize=5, label='Training Accuracy')\n",
    "plt.fill_between(train_sizes, train_mean + train_std, train_mean - train_std, alpha=0.15, color='blue')\n",
    "plt.grid()\n",
    "plt.xlabel('Number of training samples')\n",
    "plt.ylabel('Accuracy')\n",
    "plt.legend(loc='lower right')\n",
    "plt.ylim([0.8, 1.0])\n",
    "plt.show()"
   ]
  },
  {
   "cell_type": "code",
   "execution_count": null,
   "metadata": {},
   "outputs": [],
   "source": [
    "# Plot the validation curve\n",
    "from sklearn.model_selection import validation_curve\n",
    "\n",
    "# Create the validation curve\n",
    "param_range = np.logspace(-6, -1, 5)\n",
    "train_scores, test_scores = validation_curve(logistic_regression, X_train, y_train, param_name='C', param_range=param_range, cv=5, scoring='accuracy', n_jobs=-1)\n",
    "\n",
    "# Compute the mean and standard deviation of the training and test scores\n",
    "train_mean = np.mean(train_scores, axis=1)\n",
    "train_std = np.std(train_scores, axis=1)\n",
    "test_mean = np.mean(test_scores, axis=1)\n",
    "test_std = np.std(test_scores, axis=1)\n",
    "\n",
    "# Plot the validation curve\n",
    "plt.figure(figsize=(5, 5))\n",
    "plt.plot(param_range, train_mean, color='blue', marker='o', markersize=5, label='Training Accuracy')\n",
    "plt.fill_between(param_range, train_mean + train_std, train_mean - train_std, alpha=0.15, color='blue')\n",
    "plt.plot(param_range, test_mean, color='green', linestyle='--', marker='s', markersize=5, label='Validation Accuracy')\n",
    "plt.fill_between(param_range, test_mean + test_std, test_mean - test_std, alpha=0.15, color='green')\n",
    "plt.grid()\n",
    "plt.xscale('log')\n",
    "plt.legend(loc='lower right')\n",
    "plt.xlabel('Parameter C')\n",
    "plt.ylabel('Accuracy')\n",
    "plt.ylim([0.8, 1.0])\n",
    "plt.show()"
   ]
  },
  {
   "cell_type": "code",
   "execution_count": null,
   "metadata": {},
   "outputs": [],
   "source": [
    "# Plot F1 score vs. threshold\n",
    "from sklearn.metrics import f1_score\n",
    "\n",
    "# Compute the F1 score for each threshold\n",
    "f1_scores = []\n",
    "thresholds = np.linspace(0, 1, 100)\n",
    "for threshold in thresholds:\n",
    "    y_pred = (logistic_regression.predict_proba(X_test)[:, 1] >= threshold).astype(bool)\n",
    "    f1_scores.append(f1_score(y_test, y_pred))\n",
    "\n",
    "# Plot the F1 score vs. threshold\n",
    "plt.figure(figsize=(5, 5))\n",
    "plt.plot(thresholds, f1_scores, color='darkorange', lw=2)\n",
    "plt.grid()\n",
    "plt.xlabel('Threshold')\n",
    "plt.ylabel('F1 Score')\n",
    "plt.show()"
   ]
  },
  {
   "cell_type": "code",
   "execution_count": null,
   "metadata": {},
   "outputs": [],
   "source": [
    "# Plot precision vs. recall\n",
    "from sklearn.metrics import precision_recall_curve\n",
    "\n",
    "# Compute the precision and recall\n",
    "precision, recall, thresholds = precision_recall_curve(y_test, predictions)\n",
    "\n",
    "# Plot the precision vs. recall\n",
    "plt.figure(figsize=(5, 5))\n",
    "plt.plot(recall, precision, color='darkorange', lw=2)\n",
    "plt.grid()\n",
    "plt.xlabel('Recall')\n",
    "plt.ylabel('Precision')\n",
    "plt.show()"
   ]
  },
  {
   "cell_type": "code",
   "execution_count": null,
   "metadata": {},
   "outputs": [],
   "source": [
    "# Create a dictionary with values for the input variables to have a prediction = Approved\n",
    "input_dict = {'credit_history': 'Good',\n",
    "            'employment_status': 'Employed',\n",
    "            'collateral': 'House',\n",
    "            'payment_history': 'Good',\n",
    "            'type_of_credit_accounts': 'Other',\n",
    "            'public_records_and_collections': 'Judgement',\n",
    "            'purpose_of_loan': 'Other',\n",
    "            'income': 44707,\n",
    "            'assets_value': 35464,\n",
    "            'debt_to_income_ratio': 74,\n",
    "            'length_of_credit_history': 38,\n",
    "            'number_of_credit_inquiries': 1,\n",
    "            'number_of_credit_accounts': 4,\n",
    "            'number_of_credit_accounts_opened_last_12_months': 4,\n",
    "            'current_balance_of_credit_accounts': 14550,\n",
    "            'total_credit_limit': 14170,\n",
    "            'total_credit_utilization': 13,\n",
    "            'loan_amount': 1464,\n",
    "            'saving_account_balance': 7778}\n",
    "\n",
    "# Convert the dictionary to a pandas DataFrame with a single row\n",
    "input_df = pd.DataFrame([input_dict])\n",
    "\n",
    "# Encode the input data using the LabelEncoder\n",
    "from sklearn.preprocessing import LabelEncoder\n",
    "encoder = LabelEncoder()\n",
    "input_df_encoded = encoder.fit_transform(input_df)\n",
    "\n",
    "# Scale the input data\n",
    "from sklearn.preprocessing import StandardScaler\n",
    "scaler = StandardScaler()\n",
    "input_df_scaled = scaler.fit_transform(input_df_encoded)\n",
    "\n",
    "# Make predictions for the input data using the trained logistic regression model\n",
    "predictions = logistic_regression.predict(input_df_scaled)\n",
    "\n",
    "# Decode the predicted approval status using the LabelEncoder\n",
    "predicted_approval_status = encoder.inverse_transform(predictions)\n",
    "\n",
    "# Print the predicted approval status\n",
    "print(\"Predicted Approval Status: {}\".format(predicted_approval_status[0]))"
   ]
  }
 ],
 "metadata": {
  "kernelspec": {
   "display_name": "project-env",
   "language": "python",
   "name": "python3"
  },
  "language_info": {
   "codemirror_mode": {
    "name": "ipython",
    "version": 3
   },
   "file_extension": ".py",
   "mimetype": "text/x-python",
   "name": "python",
   "nbconvert_exporter": "python",
   "pygments_lexer": "ipython3",
   "version": "3.10.10"
  },
  "orig_nbformat": 4,
  "vscode": {
   "interpreter": {
    "hash": "07399a9b4a62e4c2eb93a877b8941afe4222eac8f395849197d7e356d4348282"
   }
  }
 },
 "nbformat": 4,
 "nbformat_minor": 2
}
