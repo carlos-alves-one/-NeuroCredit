{
 "cells": [
  {
   "attachments": {},
   "cell_type": "markdown",
   "metadata": {},
   "source": [
    "### Goldsmiths University of London\n",
    "### Author....: Carlos Manuel de Oliveira Alves\n",
    "### Student...: cdeol003\n",
    "### Created...: 24/02/2023\n",
    "### FYP.......: NeuroCredit"
   ]
  },
  {
   "cell_type": "code",
   "execution_count": null,
   "metadata": {},
   "outputs": [],
   "source": [
    "# Import libraries to split the dataset into training and test sets\n",
    "from pandas import pd\n",
    "from sklearn.linear_model import LogisticRegression\n",
    "from sklearn.model_selection import train_test_split\n",
    "from sklearn.preprocessing import StandardScaler\n",
    "\n",
    "# Load the dataset with random data with loan records\n",
    "df = pd.read_csv(\"data.csv\")\n",
    "\n",
    "# Encode categorical variables from the dataset\n",
    "df_encoded = pd.get_dummies(df)\n",
    "\n",
    "# Split dataset into training and testing sets\n",
    "X = df_encoded.drop([\"approval_status_Approved\", \"approval_status_Rejected\"], axis=1)\n",
    "y = df_encoded[\"approval_status_Approved\"]\n",
    "X_train, X_test, y_train, y_test = train_test_split(X, y, test_size=0.3, random_state=42)\n",
    "\n",
    "# Scale the data\n",
    "scaler = StandardScaler()\n",
    "X_train_scaled = scaler.fit_transform(X_train)\n",
    "X_test_scaled = scaler.transform(X_test)\n",
    "\n",
    "# Train the model\n",
    "model = LogisticRegression()\n",
    "model.fit(X_train_scaled, y_train)\n",
    "\n",
    "# Predict the approval status of a loan\n",
    "model.predict(X_test_scaled)"
   ]
  }
 ],
 "metadata": {
  "kernelspec": {
   "display_name": "Python 3",
   "language": "python",
   "name": "python3"
  },
  "language_info": {
   "codemirror_mode": {
    "name": "ipython",
    "version": 3
   },
   "file_extension": ".py",
   "mimetype": "text/x-python",
   "name": "python",
   "nbconvert_exporter": "python",
   "pygments_lexer": "ipython3",
   "version": "3.9.13"
  },
  "orig_nbformat": 4,
  "vscode": {
   "interpreter": {
    "hash": "45d680b53dd59098257682a39d3543fddeca95e541b2c6ea1b49c6cd756418f3"
   }
  }
 },
 "nbformat": 4,
 "nbformat_minor": 2
}
