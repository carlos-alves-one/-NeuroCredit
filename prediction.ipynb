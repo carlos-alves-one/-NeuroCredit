{
 "cells": [
  {
   "attachments": {},
   "cell_type": "markdown",
   "metadata": {},
   "source": [
    "### Goldsmiths University of London\n",
    "### Author....: Carlos Manuel de Oliveira Alves\n",
    "### Student...: cdeol003\n",
    "### Created...: 24/02/2023\n",
    "### FYP.......: NeuroCredit"
   ]
  },
  {
   "cell_type": "code",
   "execution_count": 1,
   "metadata": {},
   "outputs": [],
   "source": [
    "# Importing the pandas library to read the data\n",
    "import pandas as pd"
   ]
  },
  {
   "cell_type": "code",
   "execution_count": 2,
   "metadata": {},
   "outputs": [],
   "source": [
    "# Reading the data with credit loans data\n",
    "data = pd.read_csv('data.csv')"
   ]
  },
  {
   "cell_type": "code",
   "execution_count": 3,
   "metadata": {},
   "outputs": [],
   "source": [
    "# Import Necessary Libraries with sklearn\n",
    "from sklearn.model_selection import train_test_split\n",
    "from sklearn.linear_model import LogisticRegression\n",
    "from sklearn.metrics import accuracy_score, precision_score, recall_score, f1_score\n",
    "from sklearn.preprocessing import OneHotEncoder\n",
    "from sklearn.preprocessing import LabelEncoder"
   ]
  },
  {
   "cell_type": "code",
   "execution_count": 4,
   "metadata": {},
   "outputs": [],
   "source": [
    "# Split the data into train and test sets\n",
    "train, test = train_test_split(data, test_size=0.2, random_state=42)"
   ]
  },
  {
   "cell_type": "code",
   "execution_count": 5,
   "metadata": {},
   "outputs": [],
   "source": [
    "# Create Logistic Regression model\n",
    "logistic_regression = LogisticRegression()\n",
    "\n",
    "# One-hot encode the string values in the train and test datasets\n",
    "encoder = OneHotEncoder(handle_unknown='ignore')\n",
    "X_train = encoder.fit_transform(train.drop(columns=['approval_status']))\n",
    "X_test = encoder.transform(test.drop(columns=['approval_status']))\n",
    "\n",
    "# Create y_train with the target column from the training set\n",
    "y_train = train['approval_status']\n",
    "\n",
    "# Initialize the LabelEncoder\n",
    "encoder = LabelEncoder()\n",
    "\n",
    "# Fit and transform the y_train labels using the LabelEncoder\n",
    "y_train = encoder.fit_transform(y_train)\n",
    "\n",
    "# Train the model on the training set\n",
    "logistic_regression.fit(X_train, y_train)\n",
    "\n",
    "# Make predictions for the test set\n",
    "predictions = logistic_regression.predict(X_test)\n",
    "\n",
    "# Create y_test with the target column from the test set\n",
    "y_test = test['approval_status']\n",
    "\n",
    "# Transform the y_test labels using the LabelEncoder (without re-fitting)\n",
    "y_test = encoder.transform(y_test)"
   ]
  },
  {
   "cell_type": "code",
   "execution_count": null,
   "metadata": {},
   "outputs": [],
   "source": [
    "# Create a dictionary with values for the input variables to have a prediction = Approved\n",
    "input_dict = {'credit_history': 'Good',\n",
    "            'employment_status': 'Employed',\n",
    "            'collateral': 'Other',\n",
    "            'payment_history': 'Excellent',\n",
    "            'type_of_credit_accounts': 'Mortgage',\n",
    "            'public_records_and_collections': 'Other',\n",
    "            'purpose_of_loan': 'Other',\n",
    "            'income': 34017,\n",
    "            'assets_value': 18704,\n",
    "            'debt_to_income_ratio': 73,\n",
    "            'length_of_credit_history': 13,\n",
    "            'number_of_credit_inquiries': 2,\n",
    "            'number_of_credit_accounts': 5,\n",
    "            'number_of_credit_accounts_opened_last_12_months': 0,\n",
    "            'current_balance_of_credit_accounts': 6316,\n",
    "            'total_credit_limit': 6875,\n",
    "            'total_credit_utilization': 22,\n",
    "            'loan_amount': 2067,\n",
    "            'saving_account_balance': 5985}\n",
    "\n",
    "# Convert the dictionary to a pandas DataFrame with a single row\n",
    "input_df = pd.DataFrame([input_dict])"
   ]
  }
 ],
 "metadata": {
  "kernelspec": {
   "display_name": "Python 3",
   "language": "python",
   "name": "python3"
  },
  "language_info": {
   "codemirror_mode": {
    "name": "ipython",
    "version": 3
   },
   "file_extension": ".py",
   "mimetype": "text/x-python",
   "name": "python",
   "nbconvert_exporter": "python",
   "pygments_lexer": "ipython3",
   "version": "3.9.13"
  },
  "orig_nbformat": 4,
  "vscode": {
   "interpreter": {
    "hash": "45d680b53dd59098257682a39d3543fddeca95e541b2c6ea1b49c6cd756418f3"
   }
  }
 },
 "nbformat": 4,
 "nbformat_minor": 2
}
