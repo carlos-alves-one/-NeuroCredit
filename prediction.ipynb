{
 "cells": [
  {
   "attachments": {},
   "cell_type": "markdown",
   "metadata": {},
   "source": [
    "### Goldsmiths University of London\n",
    "### Author....: Carlos Manuel de Oliveira Alves\n",
    "### Student...: cdeol003\n",
    "### Created...: 24/02/2023\n",
    "### FYP.......: NeuroCredit"
   ]
  },
  {
   "cell_type": "code",
   "execution_count": 36,
   "metadata": {},
   "outputs": [
    {
     "name": "stdout",
     "output_type": "stream",
     "text": [
      "The loan is approved\n",
      "Approval Probability: 47.89%\n"
     ]
    }
   ],
   "source": [
    "# Import libraries to split the dataset into training and test sets\n",
    "import pandas as pd\n",
    "from sklearn.linear_model import LogisticRegression\n",
    "from sklearn.model_selection import train_test_split\n",
    "from sklearn.preprocessing import StandardScaler\n",
    "\n",
    "# Load the dataset with random data with loan records\n",
    "df = pd.read_csv(\"data.csv\")\n",
    "\n",
    "# Encode categorical variables from the dataset\n",
    "df_encoded = pd.get_dummies(df)\n",
    "\n",
    "# Split dataset into training and testing sets\n",
    "X = df_encoded.drop([\"approval_status_Approved\", \"approval_status_Rejected\"], axis=1)\n",
    "y = df_encoded[\"approval_status_Approved\"]\n",
    "X_train, X_test, y_train, y_test = train_test_split(X, y, test_size=0.3, random_state=42)\n",
    "\n",
    "# Normalize the numerical variables\n",
    "scaler = StandardScaler()\n",
    "X_train_scaled = scaler.fit_transform(X_train)\n",
    "X_test_scaled = scaler.transform(X_test)\n",
    "\n",
    "# Train a logistic regression model\n",
    "lr = LogisticRegression()\n",
    "lr.fit(X_train_scaled, y_train)\n",
    "\n",
    "# Predict the approval status for new input variables\n",
    "new_data = pd.DataFrame({\n",
    "    'credit_history': 'Good',\n",
    "    'employment_status': 'Employed',\n",
    "    'collateral': 'Other',\n",
    "    'payment_history': 'Excellent',\n",
    "    'type_of_credit_accounts': 'Mortgage',\n",
    "    'public_records_and_collections': 'Other',\n",
    "    'purpose_of_loan': 'Other',\n",
    "    'income': 34017,\n",
    "    'assets_value': 18704,\n",
    "    'debt_to_income_ratio': 73,\n",
    "    'length_of_credit_history': 13,\n",
    "    'number_of_credit_inquiries': 2,\n",
    "    'number_of_credit_accounts': 5,\n",
    "    'number_of_credit_accounts_opened_last_12_months': 0,\n",
    "    'current_balance_of_credit_accounts': 6316,\n",
    "    'total_credit_limit': 6875,\n",
    "    'total_credit_utilization': 22,\n",
    "    'loan_amount': 2067,\n",
    "    'saving_account_balance': 5985\n",
    "}, index=[0])\n",
    "\n",
    "# Encode the new data\n",
    "new_data_encoded = pd.get_dummies(new_data)\n",
    "\n",
    "# Ensure that new_data_encoded has the same columns as X_train\n",
    "new_data_encoded = new_data_encoded.reindex(columns=X_train.columns, fill_value=0)\n",
    "\n",
    "# Scale the new data\n",
    "new_data_scaled = scaler.transform(new_data_encoded)\n",
    "\n",
    "# Predict the approval status\n",
    "approval_prediction = lr.predict(new_data_scaled)\n",
    "approval_probability = lr.predict_proba(new_data_scaled)[:, 1]\n",
    "\n",
    "if approval_prediction == 0:\n",
    "    print(\"The loan is approved\")\n",
    "else:\n",
    "    print(\"The loan is rejected\")\n",
    "\n",
    "# Print the approval probability\n",
    "print(\"Approval Probability: {:.2f}%\".format(approval_probability.item() * 100))\n"
   ]
  }
 ],
 "metadata": {
  "kernelspec": {
   "display_name": "Python 3",
   "language": "python",
   "name": "python3"
  },
  "language_info": {
   "codemirror_mode": {
    "name": "ipython",
    "version": 3
   },
   "file_extension": ".py",
   "mimetype": "text/x-python",
   "name": "python",
   "nbconvert_exporter": "python",
   "pygments_lexer": "ipython3",
   "version": "3.9.13"
  },
  "orig_nbformat": 4,
  "vscode": {
   "interpreter": {
    "hash": "45d680b53dd59098257682a39d3543fddeca95e541b2c6ea1b49c6cd756418f3"
   }
  }
 },
 "nbformat": 4,
 "nbformat_minor": 2
}
