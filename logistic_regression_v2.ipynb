{
 "cells": [
  {
   "attachments": {},
   "cell_type": "markdown",
   "metadata": {},
   "source": [
    "### Goldsmiths University of London\n",
    "### Author....: Carlos Manuel de Oliveira Alves\n",
    "### Student...: cdeol003\n",
    "### Created...: 11/02/2023\n",
    "### FYP.......: NeuroCredit"
   ]
  },
  {
   "cell_type": "code",
   "execution_count": 1,
   "metadata": {},
   "outputs": [],
   "source": [
    "# Import the libraries\n",
    "import numpy as np\n",
    "import pandas as pd\n",
    "import matplotlib.pyplot as plt"
   ]
  },
  {
   "cell_type": "code",
   "execution_count": 2,
   "metadata": {},
   "outputs": [],
   "source": [
    "# Import the dataset\n",
    "dataset = pd.read_csv('data.csv')\n",
    "\n",
    "# Split the dataset into independent and dependent variables\n",
    "\n",
    "# Select all the columns except the last one as the independent variables vector\n",
    "X = dataset.iloc[:, :-1].values\n",
    "\n",
    "# Select the last column as the dependent variable vector\n",
    "y = dataset.iloc[:, -1].values"
   ]
  },
  {
   "cell_type": "code",
   "execution_count": 6,
   "metadata": {},
   "outputs": [
    {
     "name": "stdout",
     "output_type": "stream",
     "text": [
      "[['Fair' 34084 'Employed' 'Land' 39837 76 'Excellent' 84 5 0 3 'Auto'\n",
      "  12377 6149 80 'Judgement' 4641 'Car Financing' 3011]\n",
      " ['Good' 20938 'Self-Employed' 'Car' 33241 53 'Poor' 59 3 3 0 'Auto' 1430\n",
      "  18922 33 'Judgement' 3592 'Other' 16448]\n",
      " ['Good' 20734 'Employed' 'Land' 12926 52 'Excellent' 84 1 1 3 'Auto'\n",
      "  16049 1197 57 'Other' 1955 'Other' 6192]\n",
      " ['Good' 14186 'Unemployed' 'Car' 16586 67 'Poor' 92 5 5 0 'Student' 4938\n",
      "  13206 92 'Collection' 3652 'Home Improvement' 7279]\n",
      " ['Excellent' 46693 'Unemployed' 'Land' 30771 66 'Excellent' 39 1 2 4\n",
      "  'Mortgage' 10459 4011 50 'Collection' 2544 'Home Improvement' 7619]]\n"
     ]
    }
   ],
   "source": [
    "# Print first 5 rows with the independent variables vector\n",
    "print(X[:5])"
   ]
  },
  {
   "cell_type": "code",
   "execution_count": 7,
   "metadata": {},
   "outputs": [
    {
     "name": "stdout",
     "output_type": "stream",
     "text": [
      "['Rejected' 'Approved' 'Rejected' 'Rejected' 'Rejected']\n"
     ]
    }
   ],
   "source": [
    "# Print first 5 rows with the dependent variable vector\n",
    "print(y[:5])"
   ]
  },
  {
   "cell_type": "code",
   "execution_count": 8,
   "metadata": {},
   "outputs": [
    {
     "name": "stdout",
     "output_type": "stream",
     "text": [
      "credit_history                                     0\n",
      "income                                             0\n",
      "employment_status                                  0\n",
      "collateral                                         0\n",
      "assets_value                                       0\n",
      "debt_to_income_ratio                               0\n",
      "payment_history                                    0\n",
      "length_of_credit_history                           0\n",
      "number_of_credit_inquiries                         0\n",
      "number_of_credit_accounts                          0\n",
      "number_of_credit_accounts_opened_last_12_months    0\n",
      "type_of_credit_accounts                            0\n",
      "current_balance_of_credit_accounts                 0\n",
      "total_credit_limit                                 0\n",
      "total_credit_utilization                           0\n",
      "public_records_and_collections                     0\n",
      "loan_amount                                        0\n",
      "purpose_of_loan                                    0\n",
      "saving_account_balance                             0\n",
      "approval_status                                    0\n",
      "dtype: int64\n"
     ]
    }
   ],
   "source": [
    "# Print the missing values in the dataset\n",
    "print(dataset.isnull().sum())"
   ]
  },
  {
   "cell_type": "code",
   "execution_count": 16,
   "metadata": {},
   "outputs": [],
   "source": [
    "# Encode the categorical data\n",
    "\n",
    "# Import the library for encoding the categorical data\n",
    "from sklearn.compose import ColumnTransformer\n",
    "\n",
    "# Import the library for one hot encoding the categorical data\n",
    "from sklearn.preprocessing import OneHotEncoder\n",
    "\n",
    "# Create an object of the ColumnTransformer class\n",
    "ct = ColumnTransformer(transformers=[('encoder', OneHotEncoder(), [0,2,3,6,11,15,17])], remainder='passthrough')\n",
    "\n",
    "# Encoding the independent variables vector\n",
    "X = np.array(ct.fit_transform(X))\n"
   ]
  },
  {
   "cell_type": "code",
   "execution_count": 17,
   "metadata": {},
   "outputs": [
    {
     "name": "stdout",
     "output_type": "stream",
     "text": [
      "[[0.0 1.0 0.0 0.0 1.0 0.0 0.0 0.0 0.0 0.0 1.0 0.0 0.0 1.0 0.0 0.0 0.0 1.0\n",
      "  0.0 0.0 0.0 0.0 0.0 0.0 1.0 0.0 0.0 0.0 0.0 1.0 0.0 0.0 0.0 34084 39837\n",
      "  76 84 5 0 3 12377 6149 80 4641 3011]\n",
      " [0.0 0.0 1.0 0.0 0.0 1.0 0.0 1.0 0.0 0.0 0.0 0.0 0.0 0.0 0.0 0.0 1.0 1.0\n",
      "  0.0 0.0 0.0 0.0 0.0 0.0 1.0 0.0 0.0 0.0 0.0 0.0 0.0 0.0 1.0 20938 33241\n",
      "  53 59 3 3 0 1430 18922 33 3592 16448]\n",
      " [0.0 0.0 1.0 0.0 1.0 0.0 0.0 0.0 0.0 0.0 1.0 0.0 0.0 1.0 0.0 0.0 0.0 1.0\n",
      "  0.0 0.0 0.0 0.0 0.0 0.0 0.0 0.0 1.0 0.0 0.0 0.0 0.0 0.0 1.0 20734 12926\n",
      "  52 84 1 1 3 16049 1197 57 1955 6192]\n",
      " [0.0 0.0 1.0 0.0 0.0 0.0 1.0 1.0 0.0 0.0 0.0 0.0 0.0 0.0 0.0 0.0 1.0 0.0\n",
      "  0.0 0.0 0.0 1.0 0.0 1.0 0.0 0.0 0.0 0.0 0.0 0.0 0.0 1.0 0.0 14186 16586\n",
      "  67 92 5 5 0 4938 13206 92 3652 7279]\n",
      " [1.0 0.0 0.0 0.0 0.0 0.0 1.0 0.0 0.0 0.0 1.0 0.0 0.0 1.0 0.0 0.0 0.0 0.0\n",
      "  1.0 0.0 0.0 0.0 0.0 1.0 0.0 0.0 0.0 0.0 0.0 0.0 0.0 1.0 0.0 46693 30771\n",
      "  66 39 1 2 4 10459 4011 50 2544 7619]]\n"
     ]
    }
   ],
   "source": [
    "# Print first 5 rows with the independent variables vector\n",
    "print(X[:5])"
   ]
  },
  {
   "cell_type": "code",
   "execution_count": 15,
   "metadata": {},
   "outputs": [
    {
     "name": "stdout",
     "output_type": "stream",
     "text": [
      "0\n",
      "2\n",
      "3\n",
      "6\n",
      "11\n",
      "15\n",
      "17\n",
      "19\n"
     ]
    }
   ],
   "source": [
    "# Print all the index numbers of the categorical columns\n",
    "print(dataset.columns.get_loc(\"credit_history\"))\n",
    "print(dataset.columns.get_loc(\"employment_status\"))\n",
    "print(dataset.columns.get_loc(\"collateral\"))\n",
    "print(dataset.columns.get_loc(\"payment_history\"))\n",
    "print(dataset.columns.get_loc(\"type_of_credit_accounts\"))\n",
    "print(dataset.columns.get_loc(\"public_records_and_collections\"))\n",
    "print(dataset.columns.get_loc(\"purpose_of_loan\"))\n",
    "print(dataset.columns.get_loc(\"approval_status\"))"
   ]
  },
  {
   "cell_type": "code",
   "execution_count": 12,
   "metadata": {},
   "outputs": [
    {
     "name": "stdout",
     "output_type": "stream",
     "text": [
      "Index(['credit_history', 'employment_status', 'collateral', 'payment_history',\n",
      "       'type_of_credit_accounts', 'public_records_and_collections',\n",
      "       'purpose_of_loan', 'approval_status'],\n",
      "      dtype='object')\n"
     ]
    }
   ],
   "source": [
    "# Print all the categorical columns in the dataset\n",
    "print(dataset.select_dtypes(include=['object']).columns)"
   ]
  },
  {
   "cell_type": "code",
   "execution_count": null,
   "metadata": {},
   "outputs": [],
   "source": [
    "# Encoding the dependent variable vector\n",
    "\n",
    "# Import the library for encoding the categorical data\n",
    "from sklearn.preprocessing import LabelEncoder\n",
    "\n",
    "# Create an object of the LabelEncoder class\n",
    "le = LabelEncoder()"
   ]
  }
 ],
 "metadata": {
  "kernelspec": {
   "display_name": "project-env",
   "language": "python",
   "name": "python3"
  },
  "language_info": {
   "codemirror_mode": {
    "name": "ipython",
    "version": 3
   },
   "file_extension": ".py",
   "mimetype": "text/x-python",
   "name": "python",
   "nbconvert_exporter": "python",
   "pygments_lexer": "ipython3",
   "version": "3.10.10"
  },
  "orig_nbformat": 4,
  "vscode": {
   "interpreter": {
    "hash": "07399a9b4a62e4c2eb93a877b8941afe4222eac8f395849197d7e356d4348282"
   }
  }
 },
 "nbformat": 4,
 "nbformat_minor": 2
}
