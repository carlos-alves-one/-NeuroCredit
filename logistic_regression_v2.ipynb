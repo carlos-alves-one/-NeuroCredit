{
 "cells": [
  {
   "attachments": {},
   "cell_type": "markdown",
   "metadata": {},
   "source": [
    "### Goldsmiths University of London\n",
    "### Author....: Carlos Manuel de Oliveira Alves\n",
    "### Student...: cdeol003\n",
    "### Created...: 11/02/2023\n",
    "### FYP.......: NeuroCredit"
   ]
  },
  {
   "cell_type": "code",
   "execution_count": 1,
   "metadata": {},
   "outputs": [],
   "source": [
    "# Import the libraries\n",
    "import numpy as np\n",
    "import pandas as pd\n",
    "import matplotlib.pyplot as plt"
   ]
  },
  {
   "cell_type": "code",
   "execution_count": 2,
   "metadata": {},
   "outputs": [],
   "source": [
    "# Import the dataset\n",
    "dataset = pd.read_csv('data.csv')\n",
    "\n",
    "# Split the dataset into independent and dependent variables\n",
    "\n",
    "# Select all the columns except the last one as the independent variables vector\n",
    "X = dataset.iloc[:, :-1].values\n",
    "\n",
    "# Select the last column as the dependent variable vector\n",
    "y = dataset.iloc[:, -1].values"
   ]
  },
  {
   "cell_type": "code",
   "execution_count": 6,
   "metadata": {},
   "outputs": [
    {
     "name": "stdout",
     "output_type": "stream",
     "text": [
      "[['Fair' 34084 'Employed' 'Land' 39837 76 'Excellent' 84 5 0 3 'Auto'\n",
      "  12377 6149 80 'Judgement' 4641 'Car Financing' 3011]\n",
      " ['Good' 20938 'Self-Employed' 'Car' 33241 53 'Poor' 59 3 3 0 'Auto' 1430\n",
      "  18922 33 'Judgement' 3592 'Other' 16448]\n",
      " ['Good' 20734 'Employed' 'Land' 12926 52 'Excellent' 84 1 1 3 'Auto'\n",
      "  16049 1197 57 'Other' 1955 'Other' 6192]\n",
      " ['Good' 14186 'Unemployed' 'Car' 16586 67 'Poor' 92 5 5 0 'Student' 4938\n",
      "  13206 92 'Collection' 3652 'Home Improvement' 7279]\n",
      " ['Excellent' 46693 'Unemployed' 'Land' 30771 66 'Excellent' 39 1 2 4\n",
      "  'Mortgage' 10459 4011 50 'Collection' 2544 'Home Improvement' 7619]]\n"
     ]
    }
   ],
   "source": [
    "# Print first 5 rows with the independent variables vector\n",
    "print(X[:5])"
   ]
  }
 ],
 "metadata": {
  "kernelspec": {
   "display_name": "project-env",
   "language": "python",
   "name": "python3"
  },
  "language_info": {
   "codemirror_mode": {
    "name": "ipython",
    "version": 3
   },
   "file_extension": ".py",
   "mimetype": "text/x-python",
   "name": "python",
   "nbconvert_exporter": "python",
   "pygments_lexer": "ipython3",
   "version": "3.10.10"
  },
  "orig_nbformat": 4,
  "vscode": {
   "interpreter": {
    "hash": "07399a9b4a62e4c2eb93a877b8941afe4222eac8f395849197d7e356d4348282"
   }
  }
 },
 "nbformat": 4,
 "nbformat_minor": 2
}
